{
  "nbformat": 4,
  "nbformat_minor": 0,
  "metadata": {
    "colab": {
      "provenance": []
    },
    "kernelspec": {
      "name": "python3",
      "display_name": "Python 3"
    },
    "language_info": {
      "name": "python"
    }
  },
  "cells": [
    {
      "cell_type": "markdown",
      "source": [
        "perform cv using either gird or random seratch\n",
        "find best parameter\n",
        "train model with best parameter\n",
        "evalue the module checking before and after"
      ],
      "metadata": {
        "id": "GCZD8bE5BvXd"
      }
    },
    {
      "cell_type": "markdown",
      "source": [
        "IMPLEMENT CLASSIFICATION MODELS"
      ],
      "metadata": {
        "id": "Hs8dz5ITDEzL"
      }
    },
    {
      "cell_type": "code",
      "execution_count": 1,
      "metadata": {
        "id": "Pjk8Ui40BuEE"
      },
      "outputs": [],
      "source": [
        "#imports\n",
        "from sklearn.datasets import load_wine\n",
        "from sklearn.model_selection import train_test_split, GridSearchCV, RandomizedSearchCV\n",
        "from sklearn.tree import DecisionTreeClassifier, DecisionTreeRegressor\n",
        "from sklearn.ensemble import RandomForestClassifier, RandomForestRegressor\n",
        "from sklearn.metrics import f1_score, mean_squared_error\n",
        "import numpy as np"
      ]
    },
    {
      "cell_type": "code",
      "source": [
        "#wine dataset\n",
        "data = load_wine()\n",
        "X = data.data\n",
        "y = data.target"
      ],
      "metadata": {
        "id": "MEDZ4_eFCVXM"
      },
      "execution_count": 2,
      "outputs": []
    },
    {
      "cell_type": "code",
      "source": [
        "#split data for classification\n",
        "X_train_clf, X_test_clf, y_train_clf, y_test_clf = train_test_split(X, y, test_size=0.2, random_state=42)"
      ],
      "metadata": {
        "id": "D7zQnOUECapu"
      },
      "execution_count": 4,
      "outputs": []
    },
    {
      "cell_type": "markdown",
      "source": [
        "Classification module"
      ],
      "metadata": {
        "id": "uSJjWPhlCn4W"
      }
    },
    {
      "cell_type": "code",
      "source": [
        "#decision tree classifier\n",
        "dt_clf = DecisionTreeClassifier(random_state=42)\n",
        "dt_clf.fit(X_train_clf, y_train_clf)\n",
        "y_pred_dt = dt_clf.predict(X_test_clf)\n",
        "f1_dt = f1_score(y_test_clf, y_pred_dt, average='weighted')"
      ],
      "metadata": {
        "id": "M5Ez6TzUCmEm"
      },
      "execution_count": 5,
      "outputs": []
    },
    {
      "cell_type": "code",
      "source": [
        "#random Forest Classifier\n",
        "rf_clf = RandomForestClassifier(random_state=42)\n",
        "rf_clf.fit(X_train_clf, y_train_clf)\n",
        "y_pred_rf = rf_clf.predict(X_test_clf)\n",
        "f1_rf = f1_score(y_test_clf, y_pred_rf, average='weighted')"
      ],
      "metadata": {
        "id": "ILI8-sA3Cz9G"
      },
      "execution_count": 6,
      "outputs": []
    },
    {
      "cell_type": "code",
      "source": [
        "#f1 score\n",
        "print(\"F1 Score - Decision Tree Classifier:\", f1_dt)\n",
        "print(\"F1 Score - Random Forest Classifier:\", f1_rf)"
      ],
      "metadata": {
        "colab": {
          "base_uri": "https://localhost:8080/"
        },
        "id": "SNn4MNVBC4vc",
        "outputId": "4dbcd908-055b-484e-f11a-25f34b3b4a78"
      },
      "execution_count": 7,
      "outputs": [
        {
          "output_type": "stream",
          "name": "stdout",
          "text": [
            "F1 Score - Decision Tree Classifier: 0.9439974457215836\n",
            "F1 Score - Random Forest Classifier: 1.0\n"
          ]
        }
      ]
    },
    {
      "cell_type": "markdown",
      "source": [
        "HYPERPARAMETER TUNNING"
      ],
      "metadata": {
        "id": "7vi83zFlC-Ew"
      }
    },
    {
      "cell_type": "code",
      "source": [
        "#for random forest classifier\n",
        "rf_params = {\n",
        "    'n_estimators': [50, 100, 150],\n",
        "    'max_depth': [None, 10, 20, 30],\n",
        "    'min_samples_split': [2, 5, 10]\n",
        "}"
      ],
      "metadata": {
        "id": "KyXtFD3CDDW0"
      },
      "execution_count": 8,
      "outputs": []
    },
    {
      "cell_type": "code",
      "source": [
        "#grid search\n",
        "grid_search_rf = GridSearchCV(RandomForestClassifier(random_state=42), rf_params, cv=5, scoring='f1_weighted')\n",
        "grid_search_rf.fit(X_train_clf, y_train_clf)\n",
        "print(\"Best Hyperparameters for Random Forest Classifier:\", grid_search_rf.best_params_)"
      ],
      "metadata": {
        "colab": {
          "base_uri": "https://localhost:8080/"
        },
        "id": "gas4V-CMDT6c",
        "outputId": "278d49ca-599b-4130-81ec-7c8856c58604"
      },
      "execution_count": 9,
      "outputs": [
        {
          "output_type": "stream",
          "name": "stdout",
          "text": [
            "Best Hyperparameters for Random Forest Classifier: {'max_depth': None, 'min_samples_split': 2, 'n_estimators': 100}\n"
          ]
        }
      ]
    },
    {
      "cell_type": "markdown",
      "source": [
        "Regression model"
      ],
      "metadata": {
        "id": "W8HDrRuvDwOn"
      }
    },
    {
      "cell_type": "code",
      "source": [
        "#split the data for regression\n",
        "X_train_reg, X_test_reg, y_train_reg, y_test_reg = train_test_split(X, y, test_size=0.2, random_state=42)"
      ],
      "metadata": {
        "id": "E53fn_gMDZ0U"
      },
      "execution_count": 10,
      "outputs": []
    },
    {
      "cell_type": "code",
      "source": [
        "#decision tree regressor\n",
        "dt_reg = DecisionTreeRegressor(random_state=42)\n",
        "dt_reg.fit(X_train_reg, y_train_reg)\n",
        "y_pred_dt_reg = dt_reg.predict(X_test_reg)\n",
        "mse_dt = mean_squared_error(y_test_reg, y_pred_dt_reg)"
      ],
      "metadata": {
        "id": "Kys-WQAgDtxR"
      },
      "execution_count": 11,
      "outputs": []
    },
    {
      "cell_type": "code",
      "source": [
        "#random forest regressor\n",
        "rf_reg = RandomForestRegressor(random_state=42)\n",
        "rf_reg.fit(X_train_reg, y_train_reg)\n",
        "y_pred_rf_reg = rf_reg.predict(X_test_reg)\n",
        "mse_rf = mean_squared_error(y_test_reg, y_pred_rf_reg)"
      ],
      "metadata": {
        "id": "uPNyLYl1D7Hp"
      },
      "execution_count": 12,
      "outputs": []
    },
    {
      "cell_type": "code",
      "source": [
        "#error\n",
        "print(\"MSE - Decision Tree Regressor:\", mse_dt)\n",
        "print(\"MSE - Random Forest Regressor:\", mse_rf)"
      ],
      "metadata": {
        "colab": {
          "base_uri": "https://localhost:8080/"
        },
        "id": "9QbRG7k2EBDg",
        "outputId": "c470e499-50ad-4293-d482-480496624387"
      },
      "execution_count": 13,
      "outputs": [
        {
          "output_type": "stream",
          "name": "stdout",
          "text": [
            "MSE - Decision Tree Regressor: 0.16666666666666666\n",
            "MSE - Random Forest Regressor: 0.06483333333333333\n"
          ]
        }
      ]
    },
    {
      "cell_type": "code",
      "source": [
        "#hyperparameter for random forest regressor\n",
        "rf_reg_params = {\n",
        "    'n_estimators': [50, 100, 200],\n",
        "    'max_depth': [None, 10, 20, 30],\n",
        "    'min_samples_leaf': [1, 2, 4]\n",
        "}"
      ],
      "metadata": {
        "id": "RZzlRgrSEGPq"
      },
      "execution_count": 14,
      "outputs": []
    },
    {
      "cell_type": "code",
      "source": [
        "random_search_rf_reg = RandomizedSearchCV(RandomForestRegressor(random_state=42), rf_reg_params, n_iter=20, cv=5, scoring='neg_mean_squared_error', random_state=42)\n",
        "random_search_rf_reg.fit(X_train_reg, y_train_reg)\n",
        "print(\"Best Hyperparameters for Random Forest Regressor:\", random_search_rf_reg.best_params_)"
      ],
      "metadata": {
        "colab": {
          "base_uri": "https://localhost:8080/"
        },
        "id": "HrA2z8-OEZDM",
        "outputId": "93eff401-ca38-4b7e-c998-229141109292"
      },
      "execution_count": 15,
      "outputs": [
        {
          "output_type": "stream",
          "name": "stdout",
          "text": [
            "Best Hyperparameters for Random Forest Regressor: {'n_estimators': 200, 'min_samples_leaf': 1, 'max_depth': 30}\n"
          ]
        }
      ]
    }
  ]
}