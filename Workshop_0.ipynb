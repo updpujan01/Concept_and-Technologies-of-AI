{
  "nbformat": 4,
  "nbformat_minor": 0,
  "metadata": {
    "colab": {
      "provenance": []
    },
    "kernelspec": {
      "name": "python3",
      "display_name": "Python 3"
    },
    "language_info": {
      "name": "python"
    }
  },
  "cells": [
    {
      "cell_type": "markdown",
      "source": [
        "# **Task:1**"
      ],
      "metadata": {
        "id": "HtfS52YoASkX"
      }
    },
    {
      "cell_type": "code",
      "source": [
        "temperatures = [8.2, 17.4, 14.1, 7.9, 18.0, 13.5, 9.0, 17.8, 13.0, 8.5,16.5, 12.9, 7.7, 17.2, 13.3, 8.4, 16.7, 14.0, 9.5, 18.3, 13.4, 8.1,\n",
        "17.9, 14.2, 7.6, 17.0, 12.8, 8.0, 16.8, 13.7, 7.8, 17.5, 13.6, 8.7,17.1, 13.8, 9.2, 18.1, 13.9, 8.3, 16.4, 12.7, 8.9, 18.2, 13.1, 7.8,\n",
        "16.6, 12.5]\n",
        "\n",
        "#create empty list\n",
        "cold=[]\n",
        "mild=[]\n",
        "comfort=[]\n",
        "#put in required list from iterations\n",
        "for temp in temperatures:\n",
        "  if temp<=10:\n",
        "    cold.append(temp)\n",
        "  elif temp>10 and temp<15:\n",
        "    mild.append(temp)\n",
        "  else:\n",
        "    comfort.append(temp)\n",
        "\n",
        "print(\"Temperature Classification\")\n",
        "print(\"Cold temperatures: \",cold)\n",
        "print(\"mild temperatures: \",mild)\n",
        "print(\"Comfort temperatures: \",comfort)\n",
        "\n",
        "\n",
        "#how many times was it mild?\n",
        "print(\"\\nNumber of days for each temperature classification\")\n",
        "print(\"Cold=\",len(cold))\n",
        "print(\"Mild=\",len(mild))\n",
        "print(\"Comfort=\",len(comfort))\n",
        "\n",
        "#Convert temperatures from celcius to farhneiht\n",
        "farhe_temp=[]\n",
        "for temp in temperatures:\n",
        "  farhe_temp.append(round((temp*(9/5))+32,2))\n",
        "print(\"\\nTemperature in farhenith are:\",farhe_temp)\n",
        "\n",
        "#analyzing the temperature based on night, evening and day\n",
        "night=temperatures[:8]\n",
        "evening=temperatures[8:16]\n",
        "day=temperatures[16:24]\n",
        "\n",
        "print(\"\\nAverage temperature in night:\",round(sum(night)/len(night),2))\n",
        "print(\"Average temperature in evening:\",round(sum(evening)/len(evening),2))\n",
        "print(\"Average temperature in day:\",round(sum(day)/len(day),2))\n",
        "\n",
        "import matplotlib.pyplot as plt\n",
        "import numpy as np\n",
        "plt.plot(day)"
      ],
      "metadata": {
        "colab": {
          "base_uri": "https://localhost:8080/",
          "height": 728
        },
        "id": "Vx6AJ8sYAWmK",
        "outputId": "093805f1-60ad-4db6-8162-735d5292993f"
      },
      "execution_count": null,
      "outputs": [
        {
          "output_type": "stream",
          "name": "stdout",
          "text": [
            "Temperature Classification\n",
            "Cold temperatures:  [8.2, 7.9, 9.0, 8.5, 7.7, 8.4, 9.5, 8.1, 7.6, 8.0, 7.8, 8.7, 9.2, 8.3, 8.9, 7.8]\n",
            "mild temperatures:  [14.1, 13.5, 13.0, 12.9, 13.3, 14.0, 13.4, 14.2, 12.8, 13.7, 13.6, 13.8, 13.9, 12.7, 13.1, 12.5]\n",
            "Comfort temperatures:  [17.4, 18.0, 17.8, 16.5, 17.2, 16.7, 18.3, 17.9, 17.0, 16.8, 17.5, 17.1, 18.1, 16.4, 18.2, 16.6]\n",
            "\n",
            "Number of days for each temperature classification\n",
            "Cold= 16\n",
            "Mild= 16\n",
            "Comfort= 16\n",
            "\n",
            "Temperature in farhenith are: [46.76, 63.32, 57.38, 46.22, 64.4, 56.3, 48.2, 64.04, 55.4, 47.3, 61.7, 55.22, 45.86, 62.96, 55.94, 47.12, 62.06, 57.2, 49.1, 64.94, 56.12, 46.58, 64.22, 57.56, 45.68, 62.6, 55.04, 46.4, 62.24, 56.66, 46.04, 63.5, 56.48, 47.66, 62.78, 56.84, 48.56, 64.58, 57.02, 46.94, 61.52, 54.86, 48.02, 64.76, 55.58, 46.04, 61.88, 54.5]\n",
            "\n",
            "Average temperature in night: 13.24\n",
            "Average temperature in evening: 12.19\n",
            "Average temperature in day: 14.01\n"
          ]
        },
        {
          "output_type": "execute_result",
          "data": {
            "text/plain": [
              "[<matplotlib.lines.Line2D at 0x7fbcfa414130>]"
            ]
          },
          "metadata": {},
          "execution_count": 69
        },
        {
          "output_type": "display_data",
          "data": {
            "text/plain": [
              "<Figure size 640x480 with 1 Axes>"
            ],
            "image/png": "[encoded data removed]"
          },
          "metadata": {}
        }
      ]
    },
    {
      "cell_type": "markdown",
      "source": [
        "# ***Task 2***"
      ],
      "metadata": {
        "id": "GAkxY9CU1atO"
      }
    },
    {
      "cell_type": "code",
      "source": [
        "def sum_nested_list(nested_list):\n",
        "  ''' Calculate the sum of all numbers in a nested list.\n",
        "  This function takes a list that may contain integers and other nested lists.\n",
        "  It recursively traverses the list and sums all the integers, no matter how deeply\n",
        "  nested they are.\n",
        "  Args:\n",
        "  nested_list (list): A list that may contain integers or other lists of integers.\n",
        "  Returns:\n",
        "  int: The total sum of all integers in the nested list, including those in sublists.\n",
        "  Example:\n",
        "  >>> sum_nested_list([1, [2, [3, 4], 5], 6, [7, 8]])\n",
        "  36\n",
        "  >>> sum_nested_list([1, [2, 3], [4, [5]]])\n",
        "  15 '''\n",
        "  total =0\n",
        "  for element in nested_list:\n",
        "    if isinstance(element, list): # Check if the element is a list\n",
        "      total += sum_nested_list(element) # Recursively sum the nested list\n",
        "    else:\n",
        "      total += element # Add the number to the total\n",
        "  return total\n",
        "\n",
        "nested_list=([1, [2, [3, 4], 5], 6, [7, 8]])\n",
        "sum_nested_list(nested_list)"
      ],
      "metadata": {
        "colab": {
          "base_uri": "https://localhost:8080/"
        },
        "id": "41jeRN_f1aQV",
        "outputId": "b692ba85-b44a-46c9-f8cc-a1a68fdfa9fa"
      },
      "execution_count": 5,
      "outputs": [
        {
          "output_type": "execute_result",
          "data": {
            "text/plain": [
              "36"
            ]
          },
          "metadata": {},
          "execution_count": 5
        }
      ]
    },
    {
      "cell_type": "markdown",
      "source": [
        "# ***Task:3***"
      ],
      "metadata": {
        "id": "7Bmkptfy3jaw"
      }
    },
    {
      "cell_type": "code",
      "source": [
        "def generate_permutations(s):\n",
        "    \"\"\"\n",
        "    Generate all unique permutations of the input string.\n",
        "    Args:\n",
        "    s (str): The input string.\n",
        "    Returns:\n",
        "    list: A list containing all unique permutations of the string.\n",
        "    \"\"\"\n",
        "    if len(s) == 0:\n",
        "        return [\"\"]\n",
        "    permutations = set()\n",
        "    for i in range(len(s)):\n",
        "        remaining = s[:i] + s[i+1:]\n",
        "        for perm in generate_permutations(remaining):\n",
        "            permutations.add(s[i] + perm)\n",
        "    return sorted(list(permutations))\n",
        "\n",
        "print(generate_permutations(\"abc\"))"
      ],
      "metadata": {
        "colab": {
          "base_uri": "https://localhost:8080/"
        },
        "id": "0s6kUM1t3lls",
        "outputId": "cda04a6d-5f04-402b-955b-e8d5d72d7c70"
      },
      "execution_count": 7,
      "outputs": [
        {
          "output_type": "stream",
          "name": "stdout",
          "text": [
            "['abc', 'acb', 'bac', 'bca', 'cab', 'cba']\n"
          ]
        }
      ]
    },
    {
      "cell_type": "markdown",
      "source": [
        "# ***Task:4***"
      ],
      "metadata": {
        "id": "e4le7OjV4paX"
      }
    },
    {
      "cell_type": "code",
      "source": [
        "def calculate_directory_size(directory):\n",
        "    \"\"\"\n",
        "    Calculate the total size of a directory, including all nested files and subdirectories.\n",
        "    Args:\n",
        "    directory (dict): A dictionary where keys are file or directory names and values are either\n",
        "    file sizes in KB or nested directories represented as dictionaries.\n",
        "    Returns:\n",
        "    int: The total size of the directory in KB.\n",
        "    \"\"\"\n",
        "    total_size = 0\n",
        "    for item in directory:\n",
        "        if isinstance(directory[item], dict):\n",
        "            total_size += calculate_directory_size(directory[item])\n",
        "        else:\n",
        "            total_size += directory[item]\n",
        "    return total_size\n",
        "\n",
        "directory_structure = {\n",
        "    \"file1.txt\": 200,\n",
        "    \"file2.txt\": 300,\n",
        "    \"subdir1\": {\n",
        "        \"file3.txt\": 400,\n",
        "        \"file4.txt\": 100\n",
        "    },\n",
        "    \"subdir2\": {\n",
        "        \"subsubdir1\": {\n",
        "            \"file5.txt\": 250\n",
        "        },\n",
        "        \"file6.txt\": 150\n",
        "    }\n",
        "}\n",
        "\n",
        "total_size = calculate_directory_size(directory_structure)\n",
        "print(f\"Total size of the directory: {total_size} KB\")\n"
      ],
      "metadata": {
        "id": "t6_9gUkH4rgl"
      },
      "execution_count": null,
      "outputs": []
    },
    {
      "cell_type": "markdown",
      "source": [
        "# ***task 5***"
      ],
      "metadata": {
        "id": "vpiWSIJo5jZk"
      }
    },
    {
      "cell_type": "code",
      "source": [
        "def min_coins(coins, amount):\n",
        "    \"\"\"\n",
        "    Finds the minimum number of coins needed to make up a given amount using dynamic programming.\n",
        "    Args:\n",
        "    coins (list of int): A list of coin denominations available for making change.\n",
        "    amount (int): The target amount for which we need to find the minimum number of coins.\n",
        "    Returns:\n",
        "    int: The minimum number of coins required to make the given amount.\n",
        "    If it is not possible to make the amount with the given coins, returns -1.\n",
        "    \"\"\"\n",
        "    dp = [float('inf')] * (amount + 1)\n",
        "    dp[0] = 0\n",
        "\n",
        "    for coin in coins:\n",
        "        for i in range(coin, amount + 1):\n",
        "            dp[i] = min(dp[i], dp[i - coin] + 1)\n",
        "\n",
        "    return dp[amount] if dp[amount] != float('inf') else -1\n",
        "\n",
        "coins = [1, 2, 5]\n",
        "amount = 11\n",
        "print(min_coins(coins, amount))\n"
      ],
      "metadata": {
        "colab": {
          "base_uri": "https://localhost:8080/"
        },
        "id": "Ylgs-qML5mIc",
        "outputId": "cc652f09-ddf0-41f4-f9a3-ba37be0dcab8"
      },
      "execution_count": 8,
      "outputs": [
        {
          "output_type": "stream",
          "name": "stdout",
          "text": [
            "3\n"
          ]
        }
      ]
    },
    {
      "cell_type": "markdown",
      "source": [
        "# ***task 6***"
      ],
      "metadata": {
        "id": "toUN2JEy6HrJ"
      }
    },
    {
      "cell_type": "code",
      "source": [
        "def longest_common_subsequence(s1, s2):\n",
        "    \"\"\"\n",
        "    Find the length of the longest common subsequence (LCS) of two strings using dynamic programming.\n",
        "    Args:\n",
        "    s1 (str): The first string.\n",
        "    s2 (str): The second string.\n",
        "    Returns:\n",
        "    int: The length of the longest common subsequence.\n",
        "    \"\"\"\n",
        "    m, n = len(s1), len(s2)\n",
        "\n",
        "    dp = [[0] * (n + 1) for _ in range(m + 1)]\n",
        "\n",
        "    for i in range(1, m + 1):\n",
        "        for j in range(1, n + 1):\n",
        "            if s1[i - 1] == s2[j - 1]:\n",
        "                dp[i][j] = dp[i - 1][j - 1] + 1\n",
        "            else:\n",
        "                dp[i][j] = max(dp[i - 1][j], dp[i][j - 1])\n",
        "\n",
        "    return dp[m][n]\n",
        "\n",
        "s1 = \"abcde\"\n",
        "s2 = \"ace\"\n",
        "print(longest_common_subsequence(s1, s2))\n"
      ],
      "metadata": {
        "colab": {
          "base_uri": "https://localhost:8080/"
        },
        "id": "b_pXOmsE6KNT",
        "outputId": "dda43982-3bc3-4736-fd51-9b890183758a"
      },
      "execution_count": 9,
      "outputs": [
        {
          "output_type": "stream",
          "name": "stdout",
          "text": [
            "3\n"
          ]
        }
      ]
    },
    {
      "cell_type": "markdown",
      "source": [
        "# ***task 7***"
      ],
      "metadata": {
        "id": "b8hq_SXu6bIQ"
      }
    },
    {
      "cell_type": "code",
      "source": [
        "def knapsack(weights, values, capacity):\n",
        "    \"\"\"\n",
        "    Solves the 0/1 knapsack problem using dynamic programming to maximize the value\n",
        "    within a given weight capacity.\n",
        "\n",
        "    Args:\n",
        "    weights (list of int): List of item weights.\n",
        "    values (list of int): List of item values.\n",
        "    capacity (int): The maximum weight capacity of the knapsack.\n",
        "\n",
        "    Returns:\n",
        "    int: The maximum value that can be carried within the given capacity.\n",
        "    \"\"\"\n",
        "    n = len(weights)\n",
        "\n",
        "    dp = [[0] * (capacity + 1) for _ in range(n + 1)]\n",
        "\n",
        "    for i in range(1, n + 1):\n",
        "        for w in range(1, capacity + 1):\n",
        "            if weights[i - 1] <= w:\n",
        "                dp[i][w] = max(dp[i - 1][w], dp[i - 1][w - weights[i - 1]] + values[i - 1])\n",
        "            else:\n",
        "                dp[i][w] = dp[i - 1][w]\n",
        "\n",
        "    return dp[n][capacity]\n",
        "\n",
        "weights = [1, 3, 4, 5]\n",
        "values = [1, 4, 5, 7]\n",
        "capacity = 7\n",
        "print(knapsack(weights, values, capacity))\n"
      ],
      "metadata": {
        "colab": {
          "base_uri": "https://localhost:8080/"
        },
        "id": "xC8QP30x6dq-",
        "outputId": "6b30eabe-fb2e-425f-a6dc-3a53c548e283"
      },
      "execution_count": 10,
      "outputs": [
        {
          "output_type": "stream",
          "name": "stdout",
          "text": [
            "9\n"
          ]
        }
      ]
    }
  ]
}