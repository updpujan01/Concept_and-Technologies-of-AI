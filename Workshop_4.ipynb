{
  "nbformat": 4,
  "nbformat_minor": 0,
  "metadata": {
    "colab": {
      "provenance": []
    },
    "kernelspec": {
      "name": "python3",
      "display_name": "Python 3"
    },
    "language_info": {
      "name": "python"
    }
  },
  "cells": [
    {
      "cell_type": "code",
      "source": [
        "from google.colab import drive\n",
        "drive.mount('/content/drive')"
      ],
      "metadata": {
        "colab": {
          "base_uri": "https://localhost:8080/"
        },
        "id": "rifRWEm3mYWc",
        "outputId": "c0c912e9-d0b6-4e11-c91f-d8e306c290a8"
      },
      "execution_count": null,
      "outputs": [
        {
          "output_type": "stream",
          "name": "stdout",
          "text": [
            "Mounted at /content/drive\n"
          ]
        }
      ]
    },
    {
      "cell_type": "code",
      "execution_count": null,
      "metadata": {
        "id": "gnPpJWyKcI_D"
      },
      "outputs": [],
      "source": [
        "#Import pandas\n",
        "import pandas as pd\n",
        "import numpy as np"
      ]
    },
    {
      "cell_type": "code",
      "source": [
        "#load dataset into dataframe\n",
        "df = pd.read_csv('/content/drive/MyDrive/Concepts and Technologies of AI./5CS037 - Cohort 11+12 - 2024 - Materials/Week -4-  Introduction to Learning Theory for Machine Learning/Dataset/diabetes.csv')"
      ],
      "metadata": {
        "id": "SDwzUyVRmo8H"
      },
      "execution_count": null,
      "outputs": []
    },
    {
      "cell_type": "markdown",
      "source": [
        "Problem 1"
      ],
      "metadata": {
        "id": "CQgsRW6ZYr6f"
      }
    },
    {
      "cell_type": "code",
      "source": [
        "#display first 10 rows\n",
        "df.head(10)"
      ],
      "metadata": {
        "colab": {
          "base_uri": "https://localhost:8080/",
          "height": 363
        },
        "id": "iFnIS-K3nNE7",
        "outputId": "6cedc214-3c69-4c59-8979-474e227bfed5"
      },
      "execution_count": null,
      "outputs": [
        {
          "output_type": "execute_result",
          "data": {
            "text/plain": [
              "   Pregnancies  Glucose  BloodPressure  SkinThickness  Insulin   BMI  \\\n",
              "0            6      148             72             35        0  33.6   \n",
              "1            1       85             66             29        0  26.6   \n",
              "2            8      183             64              0        0  23.3   \n",
              "3            1       89             66             23       94  28.1   \n",
              "4            0      137             40             35      168  43.1   \n",
              "5            5      116             74              0        0  25.6   \n",
              "6            3       78             50             32       88  31.0   \n",
              "7           10      115              0              0        0  35.3   \n",
              "8            2      197             70             45      543  30.5   \n",
              "9            8      125             96              0        0   0.0   \n",
              "\n",
              "   DiabetesPedigreeFunction  Age  Outcome  \n",
              "0                     0.627   50        1  \n",
              "1                     0.351   31        0  \n",
              "2                     0.672   32        1  \n",
              "3                     0.167   21        0  \n",
              "4                     2.288   33        1  \n",
              "5                     0.201   30        0  \n",
              "6                     0.248   26        1  \n",
              "7                     0.134   29        0  \n",
              "8                     0.158   53        1  \n",
              "9                     0.232   54        1  "
            ],
            "text/html": [
              "\n",
              "  <div id=\"df-22a2a3f3-fd7b-4b32-ac30-c7b1bb7e73e8\" class=\"colab-df-container\">\n",
              "    <div>\n",
              "<style scoped>\n",
              "    .dataframe tbody tr th:only-of-type {\n",
              "        vertical-align: middle;\n",
              "    }\n",
              "\n",
              "    .dataframe tbody tr th {\n",
              "        vertical-align: top;\n",
              "    }\n",
              "\n",
              "    .dataframe thead th {\n",
              "        text-align: right;\n",
              "    }\n",
              "</style>\n",
              "<table border=\"1\" class=\"dataframe\">\n",
              "  <thead>\n",
              "    <tr style=\"text-align: right;\">\n",
              "      <th></th>\n",
              "      <th>Pregnancies</th>\n",
              "      <th>Glucose</th>\n",
              "      <th>BloodPressure</th>\n",
              "      <th>SkinThickness</th>\n",
              "      <th>Insulin</th>\n",
              "      <th>BMI</th>\n",
              "      <th>DiabetesPedigreeFunction</th>\n",
              "      <th>Age</th>\n",
              "      <th>Outcome</th>\n",
              "    </tr>\n",
              "  </thead>\n",
              "  <tbody>\n",
              "    <tr>\n",
              "      <th>0</th>\n",
              "      <td>6</td>\n",
              "      <td>148</td>\n",
              "      <td>72</td>\n",
              "      <td>35</td>\n",
              "      <td>0</td>\n",
              "      <td>33.6</td>\n",
              "      <td>0.627</td>\n",
              "      <td>50</td>\n",
              "      <td>1</td>\n",
              "    </tr>\n",
              "    <tr>\n",
              "      <th>1</th>\n",
              "      <td>1</td>\n",
              "      <td>85</td>\n",
              "      <td>66</td>\n",
              "      <td>29</td>\n",
              "      <td>0</td>\n",
              "      <td>26.6</td>\n",
              "      <td>0.351</td>\n",
              "      <td>31</td>\n",
              "      <td>0</td>\n",
              "    </tr>\n",
              "    <tr>\n",
              "      <th>2</th>\n",
              "      <td>8</td>\n",
              "      <td>183</td>\n",
              "      <td>64</td>\n",
              "      <td>0</td>\n",
              "      <td>0</td>\n",
              "      <td>23.3</td>\n",
              "      <td>0.672</td>\n",
              "      <td>32</td>\n",
              "      <td>1</td>\n",
              "    </tr>\n",
              "    <tr>\n",
              "      <th>3</th>\n",
              "      <td>1</td>\n",
              "      <td>89</td>\n",
              "      <td>66</td>\n",
              "      <td>23</td>\n",
              "      <td>94</td>\n",
              "      <td>28.1</td>\n",
              "      <td>0.167</td>\n",
              "      <td>21</td>\n",
              "      <td>0</td>\n",
              "    </tr>\n",
              "    <tr>\n",
              "      <th>4</th>\n",
              "      <td>0</td>\n",
              "      <td>137</td>\n",
              "      <td>40</td>\n",
              "      <td>35</td>\n",
              "      <td>168</td>\n",
              "      <td>43.1</td>\n",
              "      <td>2.288</td>\n",
              "      <td>33</td>\n",
              "      <td>1</td>\n",
              "    </tr>\n",
              "    <tr>\n",
              "      <th>5</th>\n",
              "      <td>5</td>\n",
              "      <td>116</td>\n",
              "      <td>74</td>\n",
              "      <td>0</td>\n",
              "      <td>0</td>\n",
              "      <td>25.6</td>\n",
              "      <td>0.201</td>\n",
              "      <td>30</td>\n",
              "      <td>0</td>\n",
              "    </tr>\n",
              "    <tr>\n",
              "      <th>6</th>\n",
              "      <td>3</td>\n",
              "      <td>78</td>\n",
              "      <td>50</td>\n",
              "      <td>32</td>\n",
              "      <td>88</td>\n",
              "      <td>31.0</td>\n",
              "      <td>0.248</td>\n",
              "      <td>26</td>\n",
              "      <td>1</td>\n",
              "    </tr>\n",
              "    <tr>\n",
              "      <th>7</th>\n",
              "      <td>10</td>\n",
              "      <td>115</td>\n",
              "      <td>0</td>\n",
              "      <td>0</td>\n",
              "      <td>0</td>\n",
              "      <td>35.3</td>\n",
              "      <td>0.134</td>\n",
              "      <td>29</td>\n",
              "      <td>0</td>\n",
              "    </tr>\n",
              "    <tr>\n",
              "      <th>8</th>\n",
              "      <td>2</td>\n",
              "      <td>197</td>\n",
              "      <td>70</td>\n",
              "      <td>45</td>\n",
              "      <td>543</td>\n",
              "      <td>30.5</td>\n",
              "      <td>0.158</td>\n",
              "      <td>53</td>\n",
              "      <td>1</td>\n",
              "    </tr>\n",
              "    <tr>\n",
              "      <th>9</th>\n",
              "      <td>8</td>\n",
              "      <td>125</td>\n",
              "      <td>96</td>\n",
              "      <td>0</td>\n",
              "      <td>0</td>\n",
              "      <td>0.0</td>\n",
              "      <td>0.232</td>\n",
              "      <td>54</td>\n",
              "      <td>1</td>\n",
              "    </tr>\n",
              "  </tbody>\n",
              "</table>\n",
              "</div>\n",
              "    <div class=\"colab-df-buttons\">\n",
              "\n",
              "  <div class=\"colab-df-container\">\n",
              "    <button class=\"colab-df-convert\" onclick=\"convertToInteractive('df-22a2a3f3-fd7b-4b32-ac30-c7b1bb7e73e8')\"\n",
              "            title=\"Convert this dataframe to an interactive table.\"\n",
              "            style=\"display:none;\">\n",
              "\n",
              "  <svg xmlns=\"http://www.w3.org/2000/svg\" height=\"24px\" viewBox=\"0 -960 960 960\">\n",
              "    <path d=\"M120-120v-720h720v720H120Zm60-500h600v-160H180v160Zm220 220h160v-160H400v160Zm0 220h160v-160H400v160ZM180-400h160v-160H180v160Zm440 0h160v-160H620v160ZM180-180h160v-160H180v160Zm440 0h160v-160H620v160Z\"/>\n",
              "  </svg>\n",
              "    </button>\n",
              "\n",
              "  <style>\n",
              "    .colab-df-container {\n",
              "      display:flex;\n",
              "      gap: 12px;\n",
              "    }\n",
              "\n",
              "    .colab-df-convert {\n",
              "      background-color: #E8F0FE;\n",
              "      border: none;\n",
              "      border-radius: 50%;\n",
              "      cursor: pointer;\n",
              "      display: none;\n",
              "      fill: #1967D2;\n",
              "      height: 32px;\n",
              "      padding: 0 0 0 0;\n",
              "      width: 32px;\n",
              "    }\n",
              "\n",
              "    .colab-df-convert:hover {\n",
              "      background-color: #E2EBFA;\n",
              "      box-shadow: 0px 1px 2px rgba(60, 64, 67, 0.3), 0px 1px 3px 1px rgba(60, 64, 67, 0.15);\n",
              "      fill: #174EA6;\n",
              "    }\n",
              "\n",
              "    .colab-df-buttons div {\n",
              "      margin-bottom: 4px;\n",
              "    }\n",
              "\n",
              "    [theme=dark] .colab-df-convert {\n",
              "      background-color: #3B4455;\n",
              "      fill: #D2E3FC;\n",
              "    }\n",
              "\n",
              "    [theme=dark] .colab-df-convert:hover {\n",
              "      background-color: #434B5C;\n",
              "      box-shadow: 0px 1px 3px 1px rgba(0, 0, 0, 0.15);\n",
              "      filter: drop-shadow(0px 1px 2px rgba(0, 0, 0, 0.3));\n",
              "      fill: #FFFFFF;\n",
              "    }\n",
              "  </style>\n",
              "\n",
              "    <script>\n",
              "      const buttonEl =\n",
              "        document.querySelector('#df-22a2a3f3-fd7b-4b32-ac30-c7b1bb7e73e8 button.colab-df-convert');\n",
              "      buttonEl.style.display =\n",
              "        google.colab.kernel.accessAllowed ? 'block' : 'none';\n",
              "\n",
              "      async function convertToInteractive(key) {\n",
              "        const element = document.querySelector('#df-22a2a3f3-fd7b-4b32-ac30-c7b1bb7e73e8');\n",
              "        const dataTable =\n",
              "          await google.colab.kernel.invokeFunction('convertToInteractive',\n",
              "                                                    [key], {});\n",
              "        if (!dataTable) return;\n",
              "\n",
              "        const docLinkHtml = 'Like what you see? Visit the ' +\n",
              "          '<a target=\"_blank\" href=https://colab.research.google.com/notebooks/data_table.ipynb>data table notebook</a>'\n",
              "          + ' to learn more about interactive tables.';\n",
              "        element.innerHTML = '';\n",
              "        dataTable['output_type'] = 'display_data';\n",
              "        await google.colab.output.renderOutput(dataTable, element);\n",
              "        const docLink = document.createElement('div');\n",
              "        docLink.innerHTML = docLinkHtml;\n",
              "        element.appendChild(docLink);\n",
              "      }\n",
              "    </script>\n",
              "  </div>\n",
              "\n",
              "\n",
              "<div id=\"df-36cf78e1-46f3-45cd-898e-6d24649ec5c2\">\n",
              "  <button class=\"colab-df-quickchart\" onclick=\"quickchart('df-36cf78e1-46f3-45cd-898e-6d24649ec5c2')\"\n",
              "            title=\"Suggest charts\"\n",
              "            style=\"display:none;\">\n",
              "\n",
              "<svg xmlns=\"http://www.w3.org/2000/svg\" height=\"24px\"viewBox=\"0 0 24 24\"\n",
              "     width=\"24px\">\n",
              "    <g>\n",
              "        <path d=\"M19 3H5c-1.1 0-2 .9-2 2v14c0 1.1.9 2 2 2h14c1.1 0 2-.9 2-2V5c0-1.1-.9-2-2-2zM9 17H7v-7h2v7zm4 0h-2V7h2v10zm4 0h-2v-4h2v4z\"/>\n",
              "    </g>\n",
              "</svg>\n",
              "  </button>\n",
              "\n",
              "<style>\n",
              "  .colab-df-quickchart {\n",
              "      --bg-color: #E8F0FE;\n",
              "      --fill-color: #1967D2;\n",
              "      --hover-bg-color: #E2EBFA;\n",
              "      --hover-fill-color: #174EA6;\n",
              "      --disabled-fill-color: #AAA;\n",
              "      --disabled-bg-color: #DDD;\n",
              "  }\n",
              "\n",
              "  [theme=dark] .colab-df-quickchart {\n",
              "      --bg-color: #3B4455;\n",
              "      --fill-color: #D2E3FC;\n",
              "      --hover-bg-color: #434B5C;\n",
              "      --hover-fill-color: #FFFFFF;\n",
              "      --disabled-bg-color: #3B4455;\n",
              "      --disabled-fill-color: #666;\n",
              "  }\n",
              "\n",
              "  .colab-df-quickchart {\n",
              "    background-color: var(--bg-color);\n",
              "    border: none;\n",
              "    border-radius: 50%;\n",
              "    cursor: pointer;\n",
              "    display: none;\n",
              "    fill: var(--fill-color);\n",
              "    height: 32px;\n",
              "    padding: 0;\n",
              "    width: 32px;\n",
              "  }\n",
              "\n",
              "  .colab-df-quickchart:hover {\n",
              "    background-color: var(--hover-bg-color);\n",
              "    box-shadow: 0 1px 2px rgba(60, 64, 67, 0.3), 0 1px 3px 1px rgba(60, 64, 67, 0.15);\n",
              "    fill: var(--button-hover-fill-color);\n",
              "  }\n",
              "\n",
              "  .colab-df-quickchart-complete:disabled,\n",
              "  .colab-df-quickchart-complete:disabled:hover {\n",
              "    background-color: var(--disabled-bg-color);\n",
              "    fill: var(--disabled-fill-color);\n",
              "    box-shadow: none;\n",
              "  }\n",
              "\n",
              "  .colab-df-spinner {\n",
              "    border: 2px solid var(--fill-color);\n",
              "    border-color: transparent;\n",
              "    border-bottom-color: var(--fill-color);\n",
              "    animation:\n",
              "      spin 1s steps(1) infinite;\n",
              "  }\n",
              "\n",
              "  @keyframes spin {\n",
              "    0% {\n",
              "      border-color: transparent;\n",
              "      border-bottom-color: var(--fill-color);\n",
              "      border-left-color: var(--fill-color);\n",
              "    }\n",
              "    20% {\n",
              "      border-color: transparent;\n",
              "      border-left-color: var(--fill-color);\n",
              "      border-top-color: var(--fill-color);\n",
              "    }\n",
              "    30% {\n",
              "      border-color: transparent;\n",
              "      border-left-color: var(--fill-color);\n",
              "      border-top-color: var(--fill-color);\n",
              "      border-right-color: var(--fill-color);\n",
              "    }\n",
              "    40% {\n",
              "      border-color: transparent;\n",
              "      border-right-color: var(--fill-color);\n",
              "      border-top-color: var(--fill-color);\n",
              "    }\n",
              "    60% {\n",
              "      border-color: transparent;\n",
              "      border-right-color: var(--fill-color);\n",
              "    }\n",
              "    80% {\n",
              "      border-color: transparent;\n",
              "      border-right-color: var(--fill-color);\n",
              "      border-bottom-color: var(--fill-color);\n",
              "    }\n",
              "    90% {\n",
              "      border-color: transparent;\n",
              "      border-bottom-color: var(--fill-color);\n",
              "    }\n",
              "  }\n",
              "</style>\n",
              "\n",
              "  <script>\n",
              "    async function quickchart(key) {\n",
              "      const quickchartButtonEl =\n",
              "        document.querySelector('#' + key + ' button');\n",
              "      quickchartButtonEl.disabled = true;  // To prevent multiple clicks.\n",
              "      quickchartButtonEl.classList.add('colab-df-spinner');\n",
              "      try {\n",
              "        const charts = await google.colab.kernel.invokeFunction(\n",
              "            'suggestCharts', [key], {});\n",
              "      } catch (error) {\n",
              "        console.error('Error during call to suggestCharts:', error);\n",
              "      }\n",
              "      quickchartButtonEl.classList.remove('colab-df-spinner');\n",
              "      quickchartButtonEl.classList.add('colab-df-quickchart-complete');\n",
              "    }\n",
              "    (() => {\n",
              "      let quickchartButtonEl =\n",
              "        document.querySelector('#df-36cf78e1-46f3-45cd-898e-6d24649ec5c2 button');\n",
              "      quickchartButtonEl.style.display =\n",
              "        google.colab.kernel.accessAllowed ? 'block' : 'none';\n",
              "    })();\n",
              "  </script>\n",
              "</div>\n",
              "\n",
              "    </div>\n",
              "  </div>\n"
            ],
            "application/vnd.google.colaboratory.intrinsic+json": {
              "type": "dataframe",
              "variable_name": "df",
              "summary": "{\n  \"name\": \"df\",\n  \"rows\": 768,\n  \"fields\": [\n    {\n      \"column\": \"Pregnancies\",\n      \"properties\": {\n        \"dtype\": \"number\",\n        \"std\": 3,\n        \"min\": 0,\n        \"max\": 17,\n        \"num_unique_values\": 17,\n        \"samples\": [\n          6,\n          1,\n          3\n        ],\n        \"semantic_type\": \"\",\n        \"description\": \"\"\n      }\n    },\n    {\n      \"column\": \"Glucose\",\n      \"properties\": {\n        \"dtype\": \"number\",\n        \"std\": 31,\n        \"min\": 0,\n        \"max\": 199,\n        \"num_unique_values\": 136,\n        \"samples\": [\n          151,\n          101,\n          112\n        ],\n        \"semantic_type\": \"\",\n        \"description\": \"\"\n      }\n    },\n    {\n      \"column\": \"BloodPressure\",\n      \"properties\": {\n        \"dtype\": \"number\",\n        \"std\": 19,\n        \"min\": 0,\n        \"max\": 122,\n        \"num_unique_values\": 47,\n        \"samples\": [\n          86,\n          46,\n          85\n        ],\n        \"semantic_type\": \"\",\n        \"description\": \"\"\n      }\n    },\n    {\n      \"column\": \"SkinThickness\",\n      \"properties\": {\n        \"dtype\": \"number\",\n        \"std\": 15,\n        \"min\": 0,\n        \"max\": 99,\n        \"num_unique_values\": 51,\n        \"samples\": [\n          7,\n          12,\n          48\n        ],\n        \"semantic_type\": \"\",\n        \"description\": \"\"\n      }\n    },\n    {\n      \"column\": \"Insulin\",\n      \"properties\": {\n        \"dtype\": \"number\",\n        \"std\": 115,\n        \"min\": 0,\n        \"max\": 846,\n        \"num_unique_values\": 186,\n        \"samples\": [\n          52,\n          41,\n          183\n        ],\n        \"semantic_type\": \"\",\n        \"description\": \"\"\n      }\n    },\n    {\n      \"column\": \"BMI\",\n      \"properties\": {\n        \"dtype\": \"number\",\n        \"std\": 7.8841603203754405,\n        \"min\": 0.0,\n        \"max\": 67.1,\n        \"num_unique_values\": 248,\n        \"samples\": [\n          19.9,\n          31.0,\n          38.1\n        ],\n        \"semantic_type\": \"\",\n        \"description\": \"\"\n      }\n    },\n    {\n      \"column\": \"DiabetesPedigreeFunction\",\n      \"properties\": {\n        \"dtype\": \"number\",\n        \"std\": 0.33132859501277484,\n        \"min\": 0.078,\n        \"max\": 2.42,\n        \"num_unique_values\": 517,\n        \"samples\": [\n          1.731,\n          0.426,\n          0.138\n        ],\n        \"semantic_type\": \"\",\n        \"description\": \"\"\n      }\n    },\n    {\n      \"column\": \"Age\",\n      \"properties\": {\n        \"dtype\": \"number\",\n        \"std\": 11,\n        \"min\": 21,\n        \"max\": 81,\n        \"num_unique_values\": 52,\n        \"samples\": [\n          60,\n          47,\n          72\n        ],\n        \"semantic_type\": \"\",\n        \"description\": \"\"\n      }\n    },\n    {\n      \"column\": \"Outcome\",\n      \"properties\": {\n        \"dtype\": \"number\",\n        \"std\": 0,\n        \"min\": 0,\n        \"max\": 1,\n        \"num_unique_values\": 2,\n        \"samples\": [\n          0,\n          1\n        ],\n        \"semantic_type\": \"\",\n        \"description\": \"\"\n      }\n    }\n  ]\n}"
            }
          },
          "metadata": {},
          "execution_count": 7
        }
      ]
    },
    {
      "cell_type": "code",
      "source": [
        "#check for missing value\n",
        "df.isnull().sum()"
      ],
      "metadata": {
        "colab": {
          "base_uri": "https://localhost:8080/",
          "height": 366
        },
        "id": "iOrTgvnIsqUB",
        "outputId": "9b630d11-4423-4a42-983a-66ee1e0662f4"
      },
      "execution_count": null,
      "outputs": [
        {
          "output_type": "execute_result",
          "data": {
            "text/plain": [
              "Pregnancies                 0\n",
              "Glucose                     0\n",
              "BloodPressure               0\n",
              "SkinThickness               0\n",
              "Insulin                     0\n",
              "BMI                         0\n",
              "DiabetesPedigreeFunction    0\n",
              "Age                         0\n",
              "Outcome                     0\n",
              "dtype: int64"
            ],
            "text/html": [
              "<div>\n",
              "<style scoped>\n",
              "    .dataframe tbody tr th:only-of-type {\n",
              "        vertical-align: middle;\n",
              "    }\n",
              "\n",
              "    .dataframe tbody tr th {\n",
              "        vertical-align: top;\n",
              "    }\n",
              "\n",
              "    .dataframe thead th {\n",
              "        text-align: right;\n",
              "    }\n",
              "</style>\n",
              "<table border=\"1\" class=\"dataframe\">\n",
              "  <thead>\n",
              "    <tr style=\"text-align: right;\">\n",
              "      <th></th>\n",
              "      <th>0</th>\n",
              "    </tr>\n",
              "  </thead>\n",
              "  <tbody>\n",
              "    <tr>\n",
              "      <th>Pregnancies</th>\n",
              "      <td>0</td>\n",
              "    </tr>\n",
              "    <tr>\n",
              "      <th>Glucose</th>\n",
              "      <td>0</td>\n",
              "    </tr>\n",
              "    <tr>\n",
              "      <th>BloodPressure</th>\n",
              "      <td>0</td>\n",
              "    </tr>\n",
              "    <tr>\n",
              "      <th>SkinThickness</th>\n",
              "      <td>0</td>\n",
              "    </tr>\n",
              "    <tr>\n",
              "      <th>Insulin</th>\n",
              "      <td>0</td>\n",
              "    </tr>\n",
              "    <tr>\n",
              "      <th>BMI</th>\n",
              "      <td>0</td>\n",
              "    </tr>\n",
              "    <tr>\n",
              "      <th>DiabetesPedigreeFunction</th>\n",
              "      <td>0</td>\n",
              "    </tr>\n",
              "    <tr>\n",
              "      <th>Age</th>\n",
              "      <td>0</td>\n",
              "    </tr>\n",
              "    <tr>\n",
              "      <th>Outcome</th>\n",
              "      <td>0</td>\n",
              "    </tr>\n",
              "  </tbody>\n",
              "</table>\n",
              "</div><br><label><b>dtype:</b> int64</label>"
            ]
          },
          "metadata": {},
          "execution_count": 8
        }
      ]
    },
    {
      "cell_type": "code",
      "source": [
        "#check datatypes and column\n",
        "df.dtypes"
      ],
      "metadata": {
        "colab": {
          "base_uri": "https://localhost:8080/",
          "height": 366
        },
        "id": "f3xnaObpWXO3",
        "outputId": "bf3f834b-2c2e-423b-d3ec-c7eb545cc0d4"
      },
      "execution_count": null,
      "outputs": [
        {
          "output_type": "execute_result",
          "data": {
            "text/plain": [
              "Pregnancies                   int64\n",
              "Glucose                       int64\n",
              "BloodPressure                 int64\n",
              "SkinThickness                 int64\n",
              "Insulin                       int64\n",
              "BMI                         float64\n",
              "DiabetesPedigreeFunction    float64\n",
              "Age                           int64\n",
              "Outcome                       int64\n",
              "dtype: object"
            ],
            "text/html": [
              "<div>\n",
              "<style scoped>\n",
              "    .dataframe tbody tr th:only-of-type {\n",
              "        vertical-align: middle;\n",
              "    }\n",
              "\n",
              "    .dataframe tbody tr th {\n",
              "        vertical-align: top;\n",
              "    }\n",
              "\n",
              "    .dataframe thead th {\n",
              "        text-align: right;\n",
              "    }\n",
              "</style>\n",
              "<table border=\"1\" class=\"dataframe\">\n",
              "  <thead>\n",
              "    <tr style=\"text-align: right;\">\n",
              "      <th></th>\n",
              "      <th>0</th>\n",
              "    </tr>\n",
              "  </thead>\n",
              "  <tbody>\n",
              "    <tr>\n",
              "      <th>Pregnancies</th>\n",
              "      <td>int64</td>\n",
              "    </tr>\n",
              "    <tr>\n",
              "      <th>Glucose</th>\n",
              "      <td>int64</td>\n",
              "    </tr>\n",
              "    <tr>\n",
              "      <th>BloodPressure</th>\n",
              "      <td>int64</td>\n",
              "    </tr>\n",
              "    <tr>\n",
              "      <th>SkinThickness</th>\n",
              "      <td>int64</td>\n",
              "    </tr>\n",
              "    <tr>\n",
              "      <th>Insulin</th>\n",
              "      <td>int64</td>\n",
              "    </tr>\n",
              "    <tr>\n",
              "      <th>BMI</th>\n",
              "      <td>float64</td>\n",
              "    </tr>\n",
              "    <tr>\n",
              "      <th>DiabetesPedigreeFunction</th>\n",
              "      <td>float64</td>\n",
              "    </tr>\n",
              "    <tr>\n",
              "      <th>Age</th>\n",
              "      <td>int64</td>\n",
              "    </tr>\n",
              "    <tr>\n",
              "      <th>Outcome</th>\n",
              "      <td>int64</td>\n",
              "    </tr>\n",
              "  </tbody>\n",
              "</table>\n",
              "</div><br><label><b>dtype:</b> object</label>"
            ]
          },
          "metadata": {},
          "execution_count": 13
        }
      ]
    },
    {
      "cell_type": "code",
      "source": [
        "#target variable\n",
        "Y = df[\"Outcome\"]\n",
        "\n",
        "#feature matrix\n",
        "X = df.drop(columns=[\"Outcome\"])"
      ],
      "metadata": {
        "id": "eVb8yfmOW3VB"
      },
      "execution_count": null,
      "outputs": []
    },
    {
      "cell_type": "code",
      "source": [
        "# Set a random seed for reproducibility\n",
        "np.random.seed(42)\n",
        "\n",
        "# Shuffle the indices\n",
        "indices = np.arange(len(df))\n",
        "np.random.shuffle(indices)\n",
        "\n",
        "# Split into train and test\n",
        "split_index = int(0.7 * len(df))\n",
        "train_indices = indices[:split_index]\n",
        "test_indices = indices[split_index:]\n",
        "\n",
        "# Create train and test sets\n",
        "X_train, X_test = X.iloc[train_indices], X.iloc[test_indices]\n",
        "y_train, y_test = y.iloc[train_indices], y.iloc[test_indices]\n"
      ],
      "metadata": {
        "id": "z_VK_Az1X5DA"
      },
      "execution_count": null,
      "outputs": []
    },
    {
      "cell_type": "code",
      "source": [
        "def euclidean_distance(point1, point2):\n",
        "    return np.sqrt(np.sum((point1 - point2) ** 2))"
      ],
      "metadata": {
        "id": "IIgvHEn-YJUI"
      },
      "execution_count": null,
      "outputs": []
    },
    {
      "cell_type": "code",
      "source": [
        "def predict_single(query, X_train, y_train, k):\n",
        "    distances = []\n",
        "\n",
        "    # Compute distances to all points in the training set\n",
        "    for i in range(len(X_train)):\n",
        "        dist = euclidean_distance(query, X_train.iloc[i])\n",
        "        distances.append((dist, y_train.iloc[i]))\n",
        "\n",
        "    # Sort by distance and get the k nearest neighbors\n",
        "    distances.sort(key=lambda x: x[0])\n",
        "    k_neighbors = distances[:k]\n",
        "\n",
        "    # Get the majority class among the k neighbors\n",
        "    classes = [neighbor[1] for neighbor in k_neighbors]\n",
        "    prediction = max(set(classes), key=classes.count)\n",
        "\n",
        "    return prediction"
      ],
      "metadata": {
        "id": "JMILOSSbYNJ8"
      },
      "execution_count": null,
      "outputs": []
    },
    {
      "cell_type": "code",
      "source": [
        "def predict_all(X_test, X_train, y_train, k):\n",
        "    predictions = []\n",
        "    for i in range(len(X_test)):\n",
        "        pred = predict_single(X_test.iloc[i], X_train, y_train, k)\n",
        "        predictions.append(pred)\n",
        "    return predictions\n"
      ],
      "metadata": {
        "id": "JCtwq5QgYThr"
      },
      "execution_count": null,
      "outputs": []
    },
    {
      "cell_type": "code",
      "source": [
        "def accuracy_score(y_true, y_pred):\n",
        "    correct = sum(y_true == y_pred)\n",
        "    return correct / len(y_true)\n"
      ],
      "metadata": {
        "id": "iZruPiEhYV2p"
      },
      "execution_count": null,
      "outputs": []
    },
    {
      "cell_type": "code",
      "source": [
        "# Set the value of k\n",
        "k = 5\n",
        "\n",
        "# Predict for all test samples\n",
        "y_pred = predict_all(X_test, X_train, y_train, k)\n",
        "\n",
        "# Evaluate accuracy\n",
        "acc = accuracy_score(y_test.values, y_pred)\n",
        "print(f\"Accuracy: {acc:.2f}\")\n"
      ],
      "metadata": {
        "colab": {
          "base_uri": "https://localhost:8080/"
        },
        "id": "oWY0OdcNYW93",
        "outputId": "310c6b20-5730-4b50-8c68-db79389543a5"
      },
      "execution_count": null,
      "outputs": [
        {
          "output_type": "stream",
          "name": "stdout",
          "text": [
            "Accuracy: 0.71\n"
          ]
        }
      ]
    },
    {
      "cell_type": "markdown",
      "source": [
        "Problem 2"
      ],
      "metadata": {
        "id": "DshPAStIYoPb"
      }
    },
    {
      "cell_type": "code",
      "source": [
        "def scale_features(X):\n",
        "    return (X - X.mean()) / X.std()\n",
        "\n",
        "# Scale the feature matrix\n",
        "X_scaled = scale_features(X)\n"
      ],
      "metadata": {
        "id": "V4XUWh3AYpka"
      },
      "execution_count": null,
      "outputs": []
    },
    {
      "cell_type": "code",
      "source": [
        "# Use the same train-test indices\n",
        "X_train_scaled, X_test_scaled = X_scaled.iloc[train_indices], X_scaled.iloc[test_indices]\n"
      ],
      "metadata": {
        "id": "lHuLM6eGYyz-"
      },
      "execution_count": null,
      "outputs": []
    },
    {
      "cell_type": "code",
      "source": [
        "# Predict for all test samples using scaled data\n",
        "y_pred_scaled = predict_all(X_test_scaled, X_train_scaled, y_train, k)\n",
        "\n",
        "# Evaluate accuracy for the scaled data\n",
        "acc_scaled = accuracy_score(y_test.values, y_pred_scaled)\n",
        "print(f\"Accuracy with Scaled Data: {acc_scaled:.2f}\")\n"
      ],
      "metadata": {
        "colab": {
          "base_uri": "https://localhost:8080/"
        },
        "id": "kwiWa3mKY1m3",
        "outputId": "9fc11a1f-16c0-4a7c-ab2b-5c49dfadeea9"
      },
      "execution_count": null,
      "outputs": [
        {
          "output_type": "stream",
          "name": "stdout",
          "text": [
            "Accuracy with Scaled Data: 0.74\n"
          ]
        }
      ]
    },
    {
      "cell_type": "markdown",
      "source": [
        "Observations:\n",
        "Impact of Scaling on KNN:\n",
        "Scaling typically improves KNN performance because the algorithm depends on the Euclidean distance, which is sensitive to the magnitude of the features. Features with larger ranges can dominate the distance computation, leading to biased results.\n",
        "\n",
        "Accuracy Difference:\n",
        "If accuracy improves after scaling, it shows that the feature magnitudes were initially imbalanced, and scaling helped to equalize their contributions to distance calculations.\n",
        "If accuracy doesn't change significantly, the features might have already been on similar scales.\n",
        "\n",
        "Reason for Improved Performance:\n",
        "Without scaling, features like BMI (float values) and Pregnancies (integers) might have disproportionate influence during distance calculation.\n",
        "Scaling standardizes all features to have a mean of 0 and a standard deviation of 1, ensuring each feature contributes equally to the distance metric.\n",
        "\n",
        "Final Discussion:\n",
        "Key Insight: Scaling the data is crucial for algorithms like KNN that rely on distance metrics. It ensures fair representation of all features and reduces bias.\n",
        "\n",
        "Recommendation: Always scale features when using KNN, especially if features are measured on different scales."
      ],
      "metadata": {
        "id": "l5q3rlpNY8rP"
      }
    },
    {
      "cell_type": "markdown",
      "source": [
        "Problem 3"
      ],
      "metadata": {
        "id": "KghPVZS3Z5CS"
      }
    },
    {
      "cell_type": "code",
      "source": [
        "import time\n",
        "\n",
        "# Function to evaluate kNN with different values of k\n",
        "def evaluate_knn(X_train, X_test, y_train, y_test, k_values):\n",
        "    results = {\n",
        "        \"k\": [],\n",
        "        \"accuracy_original\": [],\n",
        "        \"time_original\": [],\n",
        "        \"accuracy_scaled\": [],\n",
        "        \"time_scaled\": []\n",
        "    }\n",
        "\n",
        "    for k in k_values:\n",
        "        # Original Data\n",
        "        start_time = time.time()\n",
        "        y_pred_original = predict_all(X_test, X_train, y_train, k)\n",
        "        time_original = time.time() - start_time\n",
        "        acc_original = accuracy_score(y_test.values, y_pred_original)\n",
        "\n",
        "        # Scaled Data\n",
        "        start_time = time.time()\n",
        "        y_pred_scaled = predict_all(X_test_scaled, X_train_scaled, y_train, k)\n",
        "        time_scaled = time.time() - start_time\n",
        "        acc_scaled = accuracy_score(y_test.values, y_pred_scaled)\n",
        "\n",
        "        # Record Results\n",
        "        results[\"k\"].append(k)\n",
        "        results[\"accuracy_original\"].append(acc_original)\n",
        "        results[\"time_original\"].append(time_original)\n",
        "        results[\"accuracy_scaled\"].append(acc_scaled)\n",
        "        results[\"time_scaled\"].append(time_scaled)\n",
        "\n",
        "    return results\n",
        "\n",
        "# Define k values\n",
        "k_values = range(1, 16)\n",
        "\n",
        "# Run evaluation\n",
        "results = evaluate_knn(X_train, X_test, y_train, y_test, k_values)\n"
      ],
      "metadata": {
        "id": "BrSQAkuyZQzX"
      },
      "execution_count": null,
      "outputs": []
    },
    {
      "cell_type": "code",
      "source": [
        "import matplotlib.pyplot as plt\n",
        "\n",
        "# Plot k vs. Accuracy\n",
        "plt.figure(figsize=(12, 6))\n",
        "plt.plot(results[\"k\"], results[\"accuracy_original\"], label=\"Original Data\", marker=\"o\")\n",
        "plt.plot(results[\"k\"], results[\"accuracy_scaled\"], label=\"Scaled Data\", marker=\"o\")\n",
        "plt.title(\"k vs. Accuracy\")\n",
        "plt.xlabel(\"k (Number of Neighbors)\")\n",
        "plt.ylabel(\"Accuracy\")\n",
        "plt.legend()\n",
        "plt.grid(True)\n",
        "plt.show()\n",
        "\n",
        "# Plot k vs. Time Taken\n",
        "plt.figure(figsize=(12, 6))\n",
        "plt.plot(results[\"k\"], results[\"time_original\"], label=\"Original Data\", marker=\"o\")\n",
        "plt.plot(results[\"k\"], results[\"time_scaled\"], label=\"Scaled Data\", marker=\"o\")\n",
        "plt.title(\"k vs. Time Taken\")\n",
        "plt.xlabel(\"k (Number of Neighbors)\")\n",
        "plt.ylabel(\"Time Taken (seconds)\")\n",
        "plt.legend()\n",
        "plt.grid(True)\n",
        "plt.show()\n"
      ],
      "metadata": {
        "id": "ox4z9ZWiZhS0"
      },
      "execution_count": null,
      "outputs": []
    },
    {
      "cell_type": "markdown",
      "source": [
        "Impact of k on Accuracy:\n",
        "For both datasets, the accuracy initially increases as k grows because it averages out noise.\n",
        "Beyond a certain k, accuracy may drop slightly as the classifier becomes too general, potentially misclassifying points in minority classes.\n",
        "\n",
        "Impact of k on Computational Cost:\n",
        "The time taken for prediction increases with k, as more neighbors must be considered for each query point.\n",
        "\n",
        "Comparison Between Original and Scaled Data:\n",
        "The scaled dataset generally achieves higher accuracy because all features contribute equally to the distance computation.\n",
        "The computational cost is similar for both datasets since scaling only affects the distance calculation, not the number of neighbors.\n",
        "\n",
        "Optimal k:\n",
        "The optimal k is typically the value that achieves the highest accuracy with minimal drop-off. This can be identified by inspecting the accuracy plot.\n",
        "For balanced datasets, a moderate k (e.g., 5 or 7) often works well."
      ],
      "metadata": {
        "id": "dD-_IajcaKhP"
      }
    },
    {
      "cell_type": "markdown",
      "source": [
        "Problem 4"
      ],
      "metadata": {
        "id": "5cVheasRZ-Zf"
      }
    },
    {
      "cell_type": "markdown",
      "source": [
        "Computational Cost:\n",
        "Reason: KNN requires calculating distances between the query point and every point in the dataset, making it computationally expensive for large datasets.\n",
        "Impact: For a dataset with\n",
        "n samples and d dimensions, the time complexity for each query is (𝑛⋅𝑑) O(n⋅d), which scales poorly.\n",
        "\n",
        "Memory Requirements:\n",
        "Reason: KNN needs to store the entire dataset in memory to perform predictions.\n",
        "Impact: For large datasets, this can result in significant memory consumption.\n",
        "\n",
        "Curse of Dimensionality:\n",
        "Reason: In high-dimensional spaces, data points tend to become equidistant due to the sparsity of data, making it difficult to distinguish between neighbors and non-neighbors.\n",
        "\n",
        "Impact: This reduces the effectiveness of the Euclidean distance metric, leading to poor classification performance.\n",
        "\n",
        "Sensitivity to Irrelevant Features:\n",
        "Reason: Irrelevant or noisy features increase the distance computation complexity and can overshadow relevant features.\n",
        "Impact: This leads to reduced accuracy and makes the model harder to interpret.\n",
        "Strategies to Improve the Efficiency of KNN\n",
        "\n",
        "Approximate Nearest Neighbors (ANN)\n",
        "Method: Use algorithms like KD-Trees, Ball Trees, or Locality-Sensitive Hashing (LSH) to approximate nearest neighbors rather than computing exact distances.\n",
        "Benefit: Significantly reduces computation time, especially for large datasets.\n",
        "Trade-off: Accuracy may slightly decrease, but the computational gain is often worth it.\n",
        "\n",
        "Dimensionality Reduction Techniques:\n",
        "Principal Component Analysis (PCA): Reduces dimensionality by projecting data onto a lower-dimensional space while preserving maximum variance.\n",
        "t-SNE or UMAP: Useful for visualizing and reducing high-dimensional data.\n",
        "Benefit: Reduces the impact of the curse of dimensionality and computational cost.\n",
        "Trade-off: May result in information loss if too many dimensions are removed.\n",
        "\n",
        "Feature Selection\n",
        "Method: Identify and retain only the most relevant features using techniques like mutual information, correlation analysis, or recursive feature elimination.\n",
        "Benefit: Reduces irrelevant noise and computational overhead.\n",
        "Trade-off: Requires preprocessing and careful feature engineering.\n",
        "\n",
        "Distance Metric Optimization\n",
        "Method: Experiment with other distance metrics (e.g., Manhattan distance, Minkowski distance) or custom metrics better suited to the dataset.\n",
        "Benefit: Improves accuracy by tailoring the metric to the problem domain.\n",
        "Trade-off: Might require domain-specific knowledge.\n",
        "\n",
        "Precomputing Distances\n",
        "Method: For datasets with many repeated queries, precompute and cache distances using data structures like distance matrices.\n",
        "Benefit: Reduces repeated computations.\n",
        "Trade-off: Increases memory usage.\n",
        "\n",
        "Sampling or Data Partitioning\n",
        "Method: Use a subset of the training data by sampling or divide the data into partitions and search locally.\n",
        "Benefit: Reduces computational time while maintaining reasonable accuracy.\n",
        "Trade-off: Risk of missing relevant neighbors if the sample or partition is not representative.\n",
        "\n",
        "Parallelization\n",
        "Method: Distribute distance computations across multiple processors or GPUs.\n",
        "Benefit: Speeds up computations for large datasets.\n",
        "Trade-off: Requires specialized hardware and software.\n",
        "\n",
        "Discussion\n",
        "KNN Strengths: Simplicity, effectiveness for small datasets, and interpretability.\n",
        "KNN Weaknesses: Scalability and sensitivity to irrelevant features in high dimensions.\n",
        "\n",
        "Best Practices:\n",
        "Scale and preprocess your data to minimize noise.\n",
        "Consider approximate methods or dimensionality reduction for large datasets.\n",
        "Use KNN as a baseline or benchmark model before transitioning to more sophisticated models for production."
      ],
      "metadata": {
        "id": "gs_J2nhbZ_6H"
      }
    }
  ]
}