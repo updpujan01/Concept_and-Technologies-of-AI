{
  "nbformat": 4,
  "nbformat_minor": 0,
  "metadata": {
    "colab": {
      "provenance": []
    },
    "kernelspec": {
      "name": "python3",
      "display_name": "Python 3"
    },
    "language_info": {
      "name": "python"
    }
  },
  "cells": [
    {
      "cell_type": "markdown",
      "source": [
        "# ***Example***"
      ],
      "metadata": {
        "id": "MIgGZFDfXB2N"
      }
    },
    {
      "cell_type": "code",
      "execution_count": null,
      "metadata": {
        "colab": {
          "base_uri": "https://localhost:8080/"
        },
        "collapsed": true,
        "id": "KSrwhya5S60D",
        "outputId": "0d0b18f2-c17a-4da0-cc3c-9c33d057a327"
      },
      "outputs": [
        {
          "output_type": "stream",
          "name": "stdout",
          "text": [
            "Pure python addition :0.03 s per loop\n",
            "Numpy python addition :0.02 s per loop\n"
          ]
        }
      ],
      "source": [
        "import numpy as np\n",
        "import random\n",
        "from timeit import timeit\n",
        "\n",
        "#define addtion function\n",
        "def add_python(z1,z2):\n",
        "  return [z1+z2 for z1,z2 in zip(z1,z2)]\n",
        "def add_numpy(z1,z2):\n",
        "  return np.numpy(z1,z2)\n",
        "\n",
        "#generate random sample data\n",
        "z1 = random.sample(range(1000),100)\n",
        "z2 = random.sample(range(1000),100)\n",
        "\n",
        "#time the exexution of each function\n",
        "python_time = timeit(\"add_python(z1,z2)\",globals=globals(),number=1000)\n",
        "numpy_time = timeit(\"add_python(z1,z2)\",globals=globals(),number=1000)\n",
        "\n",
        "#print result\n",
        "print(f\"Pure python addition :{python_time:.2f} s per loop\")\n",
        "print(f\"Numpy python addition :{numpy_time:.2f} s per loop\")"
      ]
    },
    {
      "cell_type": "code",
      "source": [
        "import numpy as np\n",
        "import random\n",
        "from timeit import timeit\n",
        "\n",
        "#define addtion function\n",
        "def add_python(z1,z2):\n",
        "  return [z1+z2 for z1,z2 in zip(z1,z2)]\n",
        "def add_numpy(z1,z2):\n",
        "  return np.numpy(z1,z2)\n",
        "\n",
        "#generate random sample data\n",
        "size = 100000 #increase size for more pronounced difference\n",
        "z1_list = random.sample(range(size+1),size)\n",
        "z2_list = random.sample(range(size+1),size)\n",
        "z1_np=np.array(z1_list)\n",
        "z2_np=np.array(z2_list)\n",
        "\n",
        "#time the exexution of each function\n",
        "python_time = timeit(\"add_python(z1_list,z2_list)\",globals=globals(),number=100)\n",
        "numpy_time = timeit(\"add_python(z1_np,z2_np)\",globals=globals(),number=100)\n",
        "\n",
        "#print result\n",
        "print(f\"Pure python addition :{python_time:.2f} s per loop\")\n",
        "print(f\"Numpy python addition :{numpy_time:.2f} s per loop\")"
      ],
      "metadata": {
        "colab": {
          "base_uri": "https://localhost:8080/"
        },
        "id": "TpAFHfV9YqdY",
        "outputId": "36e0160a-f8a0-4716-cb3b-fe0940690d81"
      },
      "execution_count": null,
      "outputs": [
        {
          "output_type": "stream",
          "name": "stdout",
          "text": [
            "Pure python addition :2.21 s per loop\n",
            "Numpy python addition :1.94 s per loop\n"
          ]
        }
      ]
    },
    {
      "cell_type": "code",
      "source": [
        "import numpy as np\n",
        "#create and display zero and n-dimensional arrays\n",
        "zero_dim_array = np.array(5)\n",
        "one_dim_array = np.array([1,2,3])\n",
        "n_dim_array = np.array([[1,2],[3,4]])\n",
        "\n",
        "for arr in [zero_dim_array,one_dim_array,n_dim_array]:\n",
        "  print(f\"Array:\\n{arr}\\nDimension: {arr.ndim}\\nData type:{arr.dtype}\\n\")"
      ],
      "metadata": {
        "colab": {
          "base_uri": "https://localhost:8080/"
        },
        "id": "ky4Y1ebSa4QT",
        "outputId": "61e1a28e-d937-41a6-bedb-e2f1ddd8181e"
      },
      "execution_count": null,
      "outputs": [
        {
          "output_type": "stream",
          "name": "stdout",
          "text": [
            "Array:\n",
            "5\n",
            "Dimension: 0\n",
            "Data type:int64\n",
            "\n",
            "Array:\n",
            "[1 2 3]\n",
            "Dimension: 1\n",
            "Data type:int64\n",
            "\n",
            "Array:\n",
            "[[1 2]\n",
            " [3 4]]\n",
            "Dimension: 2\n",
            "Data type:int64\n",
            "\n"
          ]
        }
      ]
    },
    {
      "cell_type": "code",
      "source": [
        "#initilialize an all zero array with size 2x3\n",
        "zero_arr=np.zeros((2,3))\n",
        "print(\"A zero array is \\n\",zero_arr,\"with dimensions\",zero_arr.shape,\"\\n\")"
      ],
      "metadata": {
        "colab": {
          "base_uri": "https://localhost:8080/"
        },
        "id": "_mNXqCsNcH9N",
        "outputId": "3c7a8636-dc4e-44b1-8fb8-6c460522e760"
      },
      "execution_count": null,
      "outputs": [
        {
          "output_type": "stream",
          "name": "stdout",
          "text": [
            "A zero array is \n",
            " [[0. 0. 0.]\n",
            " [0. 0. 0.]] with dimensions (2, 3) \n",
            "\n"
          ]
        }
      ]
    },
    {
      "cell_type": "code",
      "source": [
        "array_0d=np.array(5)\n",
        "array_1d=np.array([1,2,3,4,5])\n",
        "array_2d=np.array([[1,2,3],[4,5,6]])\n",
        "array_3d=np.array([[[1,2],[3,4]],[[5,6],[7,8]]])\n",
        "\n",
        "#print array with shapes\n",
        "for i,arr in enumerate([array_0d,array_1d,array_2d,array_3d]):\n",
        "  print(f\"{i}D Array: \\n{arr}\\nShape:{arr.shape}\\n\")"
      ],
      "metadata": {
        "colab": {
          "base_uri": "https://localhost:8080/"
        },
        "id": "YDGzfciscrFy",
        "outputId": "d69157ff-459e-4b77-fefe-b67abcd3b124"
      },
      "execution_count": null,
      "outputs": [
        {
          "output_type": "stream",
          "name": "stdout",
          "text": [
            "0D Array: \n",
            "5\n",
            "Shape:()\n",
            "\n",
            "1D Array: \n",
            "[1 2 3 4 5]\n",
            "Shape:(5,)\n",
            "\n",
            "2D Array: \n",
            "[[1 2 3]\n",
            " [4 5 6]]\n",
            "Shape:(2, 3)\n",
            "\n",
            "3D Array: \n",
            "[[[1 2]\n",
            "  [3 4]]\n",
            "\n",
            " [[5 6]\n",
            "  [7 8]]]\n",
            "Shape:(2, 2, 2)\n",
            "\n"
          ]
        }
      ]
    },
    {
      "cell_type": "code",
      "source": [
        "import numpy as np\n",
        "array = np . array ([[1 , 2 , 3] , [4 , 5 , 6]]) # Shape (2 , 3)\n",
        "reshaped_array = array . reshape (3 , 2) # Reshape to (3 ,2) , keeping 6 elements\n",
        "print (\" Original Shape :\", array . shape , \"\\nReshaped Shape :\", reshaped_array . shape )"
      ],
      "metadata": {
        "colab": {
          "base_uri": "https://localhost:8080/"
        },
        "id": "8P9JnbKFewo1",
        "outputId": "ab438c8f-4867-443a-c9a4-b5a3deb3f2bd"
      },
      "execution_count": null,
      "outputs": [
        {
          "output_type": "stream",
          "name": "stdout",
          "text": [
            " Original Shape : (2, 3) \n",
            "Reshaped Shape : (3, 2)\n"
          ]
        }
      ]
    },
    {
      "cell_type": "code",
      "source": [
        "import numpy as np\n",
        "a = np . arange (1 , 10)\n",
        "print ( a )\n",
        "x = range (1 , 10)\n",
        "print ( x ) # x is an iterator\n",
        "print ( list ( x ) )\n",
        "# further arange examples :\n",
        "x = np . arange (10.4)\n",
        "print ( x )\n",
        "x = np . arange (0.5 , 10.4 , 0.8)\n",
        "print ( x )"
      ],
      "metadata": {
        "colab": {
          "base_uri": "https://localhost:8080/"
        },
        "id": "Dft5zyb-gXPP",
        "outputId": "4707ae0e-ed7a-4a01-db7f-d92b6d98fa14"
      },
      "execution_count": null,
      "outputs": [
        {
          "output_type": "stream",
          "name": "stdout",
          "text": [
            "[1 2 3 4 5 6 7 8 9]\n",
            "range(1, 10)\n",
            "[1, 2, 3, 4, 5, 6, 7, 8, 9]\n",
            "[ 0.  1.  2.  3.  4.  5.  6.  7.  8.  9. 10.]\n",
            "[ 0.5  1.3  2.1  2.9  3.7  4.5  5.3  6.1  6.9  7.7  8.5  9.3 10.1]\n"
          ]
        }
      ]
    },
    {
      "cell_type": "code",
      "source": [
        "import numpy as np\n",
        "# 50 values between 1 and 10:\n",
        "print ( np . linspace (1 , 10,10,endpoint=True,retstep=True) )\n",
        "# 7 values between 1 and 10:\n",
        "print ( np . linspace (1 , 10 , 7) )\n",
        "# excluding the endpoint :\n",
        "print ( np . linspace (1 , 10 , 7 , endpoint = False ) )"
      ],
      "metadata": {
        "colab": {
          "base_uri": "https://localhost:8080/"
        },
        "id": "-p-Ky9cBiUuw",
        "outputId": "3d22f6c4-1121-4a27-f012-ebd9acdce858"
      },
      "execution_count": null,
      "outputs": [
        {
          "output_type": "stream",
          "name": "stdout",
          "text": [
            "(array([ 1.,  2.,  3.,  4.,  5.,  6.,  7.,  8.,  9., 10.]), 1.0)\n",
            "[ 1.   2.5  4.   5.5  7.   8.5 10. ]\n",
            "[1.         2.28571429 3.57142857 4.85714286 6.14285714 7.42857143\n",
            " 8.71428571]\n"
          ]
        }
      ]
    },
    {
      "cell_type": "code",
      "source": [
        "import numpy as np\n",
        "# Create arrays of specified shapes\n",
        "ones_array = np . ones ((2 , 3) ) # Shape : (2 , 3)\n",
        "zeros_array = np . zeros ((3 , 2) ) # Shape : (3 , 2)\n",
        "empty_array = np . empty ((2 , 2) ) # Shape : (2 , 2)\n",
        "identity_matrix = np . eye (3) # Shape : (3 , 3)\n",
        "print ( ones_array , zeros_array , empty_array ,identity_matrix , sep =\"\\n\\n\")"
      ],
      "metadata": {
        "colab": {
          "base_uri": "https://localhost:8080/"
        },
        "id": "RyQOp0nRi476",
        "outputId": "714937b6-d814-43c2-93e4-8f60b34f4ca3"
      },
      "execution_count": null,
      "outputs": [
        {
          "output_type": "stream",
          "name": "stdout",
          "text": [
            "[[1. 1. 1.]\n",
            " [1. 1. 1.]]\n",
            "\n",
            "[[0. 0.]\n",
            " [0. 0.]\n",
            " [0. 0.]]\n",
            "\n",
            "[[4.9e-324 9.9e-324]\n",
            " [1.5e-323 2.0e-323]]\n",
            "\n",
            "[[1. 0. 0.]\n",
            " [0. 1. 0.]\n",
            " [0. 0. 1.]]\n"
          ]
        }
      ]
    },
    {
      "cell_type": "code",
      "source": [
        "import numpy as np\n",
        "array_from_list = np . array ([1 , 2 , 3]) # [1 2 3]\n",
        "array_from_tuple = np . array ((4 , 5 , 6)) # [4 5 6]\n",
        "array_from_nested_list = np . array ([[1 , 2 , 3] , [4 , 5 ,6]]) # [[1 2 3] [4 5 6]]\n",
        "print ( array_from_list , array_from_tuple ,array_from_nested_list , sep =\"\\n\")"
      ],
      "metadata": {
        "colab": {
          "base_uri": "https://localhost:8080/"
        },
        "id": "OOZPYHjLjK2j",
        "outputId": "8dd6d83c-cf5d-451e-d48a-e7114a490877"
      },
      "execution_count": null,
      "outputs": [
        {
          "output_type": "stream",
          "name": "stdout",
          "text": [
            "[1 2 3]\n",
            "[4 5 6]\n",
            "[[1 2 3]\n",
            " [4 5 6]]\n"
          ]
        }
      ]
    },
    {
      "cell_type": "code",
      "source": [
        "import numpy as np\n",
        "array = np . array ([1 , 2 , 3])\n",
        "print(array)\n",
        "# Multiplies each element by 2 , result : [2 , 4 , 6]\n",
        "new_array = array * 2\n",
        "print(new_array)\n",
        "# Creates a new array with the same elements\n",
        "copied_array = np . copy ( array )\n",
        "print(copied_array)\n",
        "# Slices elements from index 1 to 3 , result :[2]\n",
        "sliced_array = array [1:2]\n",
        "print(sliced_array)"
      ],
      "metadata": {
        "colab": {
          "base_uri": "https://localhost:8080/"
        },
        "id": "jbKB4HZ0kWYt",
        "outputId": "359cad01-d89c-42d5-9fa2-714cfe5d039b"
      },
      "execution_count": null,
      "outputs": [
        {
          "output_type": "stream",
          "name": "stdout",
          "text": [
            "[1 2 3]\n",
            "[2 4 6]\n",
            "[1 2 3]\n",
            "[2]\n"
          ]
        }
      ]
    },
    {
      "cell_type": "code",
      "source": [
        "import numpy as np\n",
        "# Existing Array of Shape :(2 ,3)\n",
        "arr = np . array ([[1 , 2 , 3] , [4 , 5 , 6]])\n",
        "# Creating Array with Shape of existing array :\n",
        "zeros , ones , empty = np . zeros ( arr . shape ) , np . ones (arr . shape ) , np . empty ( arr . shape ) # Shape : (2 ,3)\n",
        "print ( arr , zeros , ones , empty , sep ='\\n')"
      ],
      "metadata": {
        "colab": {
          "base_uri": "https://localhost:8080/"
        },
        "id": "IMMa96hLk7SG",
        "outputId": "5d7a10f3-820c-4b72-e2f5-8f4dc6bda89b"
      },
      "execution_count": null,
      "outputs": [
        {
          "output_type": "stream",
          "name": "stdout",
          "text": [
            "[[1 2 3]\n",
            " [4 5 6]]\n",
            "[[0. 0. 0.]\n",
            " [0. 0. 0.]]\n",
            "[[1. 1. 1.]\n",
            " [1. 1. 1.]]\n",
            "[[4.82802312e-310 0.00000000e+000 3.35559136e-143]\n",
            " [9.30350598e+199 4.24941018e-086 1.55535091e+161]]\n"
          ]
        }
      ]
    },
    {
      "cell_type": "code",
      "source": [
        "import numpy as np\n",
        "arr1 = np . array ([[1 , 2] , [3 , 4]]) # Shape : (2 , 2)\n",
        "arr2 = np . array ([[5 , 6] , [7 , 8]]) # Shape : (2 , 2)\n",
        "# Stacking examples\n",
        "hstacked = np . hstack (( arr1 , arr2 ) )\n",
        "# Output hstack : [[1 2 5 6] [3 4 7 8]]\n",
        "vstacked = np . vstack (( arr1 , arr2 ) )\n",
        "# Output vstack [[1 2] [3 4] [5 6] [7 8]]\n",
        "colstacked = np . column_stack (( arr1 [0] , arr2 [0]) )\n",
        "# Output column stack : [[1 5] [2 6]]\n",
        "print ( hstacked , vstacked , colstacked , sep ='\\n')"
      ],
      "metadata": {
        "colab": {
          "base_uri": "https://localhost:8080/"
        },
        "id": "eX54CEH5lW4O",
        "outputId": "976742be-c0c5-4321-a704-62c244fab0ec"
      },
      "execution_count": null,
      "outputs": [
        {
          "output_type": "stream",
          "name": "stdout",
          "text": [
            "[[1 2 5 6]\n",
            " [3 4 7 8]]\n",
            "[[1 2]\n",
            " [3 4]\n",
            " [5 6]\n",
            " [7 8]]\n",
            "[[1 5]\n",
            " [2 6]]\n"
          ]
        }
      ]
    },
    {
      "cell_type": "code",
      "source": [
        "import numpy as np\n",
        "arr1 = np . array ([[1 , 2] , [3 , 4]]) # Shape : (2 , 2)\n",
        "arr2 = np . array ([[5 , 6] , [7 , 8]]) # Shape : (2 , 2)\n",
        "concat_axis0 = np . concatenate (( arr1 , arr2 ) , axis =0)\n",
        "# Concatenate along axis 0 ( vertical ) Shape : (4 , 2)\n",
        "concat_axis1 = np . concatenate (( arr1 , arr2 ) , axis =1)\n",
        "# Concatenate along axis 1 ( horizontal ) Shape : (2 , 4)\n",
        "print ( concat_axis0 , concat_axis1 , sep ='\\n')"
      ],
      "metadata": {
        "colab": {
          "base_uri": "https://localhost:8080/"
        },
        "id": "CB-sUiaem-oX",
        "outputId": "cbb52858-bd4c-4305-880a-faa677a70c22"
      },
      "execution_count": null,
      "outputs": [
        {
          "output_type": "stream",
          "name": "stdout",
          "text": [
            "[[1 2]\n",
            " [3 4]\n",
            " [5 6]\n",
            " [7 8]]\n",
            "[[1 2 5 6]\n",
            " [3 4 7 8]]\n"
          ]
        }
      ]
    },
    {
      "cell_type": "markdown",
      "source": [
        "# ***Workshop-1***"
      ],
      "metadata": {
        "id": "XVGkfGPNoJU1"
      }
    },
    {
      "cell_type": "markdown",
      "source": [
        "# **TO-DO TASK**"
      ],
      "metadata": {
        "id": "SbjK6o-ToNZK"
      }
    },
    {
      "cell_type": "code",
      "source": [
        "#Questions of task 4 problem 1\n",
        "\n",
        "import numpy as np\n",
        "\n",
        "#Initialize an empty array with size 2X2\n",
        "empty_array = np.empty((2, 2))\n",
        "print(\"Empty Array (2x2):\\n\",empty_array)\n",
        "\n",
        "#Initialize an all one array with size 4X2\n",
        "ones_array = np.ones((4, 2))\n",
        "print(\"\\nAll Ones Array (4x2):\\n\",ones_array)\n",
        "\n",
        "#Return a new array of given shape and type, filled with fill value\n",
        "shape = (3, 3)\n",
        "fill_value = 7\n",
        "filled_array = np.full(shape, fill_value)\n",
        "print(\"\\nFilled Array (3x3) with value 7:\\n\",filled_array)\n",
        "\n",
        "#Return a new array of zeros with same shape and type as a given array\n",
        "existing_array = np.array([[1, 2], [3, 4]])\n",
        "zeros_array = np.zeros_like(existing_array)\n",
        "print(\"\\nZeros Like Array :\\n\",zeros_array)\n",
        "\n",
        "#Return a new array of ones with same shape and type as a given array\n",
        "ones_array = np.ones_like(existing_array)\n",
        "print(\"\\nOnes Like Array \\n\",ones_array)\n",
        "\n",
        "# For an existing list new_list = [1, 2, 3, 4] convert to a numpy array\n",
        "new_list = [1, 2, 3, 4]\n",
        "numpy_array = np.array(new_list)\n",
        "print(\"\\nNumPy Array from List:\\n\",numpy_array)"
      ],
      "metadata": {
        "colab": {
          "base_uri": "https://localhost:8080/"
        },
        "id": "EWFbCZVjoZH0",
        "outputId": "57970509-b183-4518-ac0e-fe0758124810"
      },
      "execution_count": null,
      "outputs": [
        {
          "output_type": "stream",
          "name": "stdout",
          "text": [
            "Empty Array (2x2):\n",
            " [[4.68327637e-310 0.00000000e+000]\n",
            " [6.55441302e-310 1.48219694e-323]]\n",
            "\n",
            "All Ones Array (4x2):\n",
            " [[1. 1.]\n",
            " [1. 1.]\n",
            " [1. 1.]\n",
            " [1. 1.]]\n",
            "\n",
            "Filled Array (3x3) with value 7:\n",
            " [[7 7 7]\n",
            " [7 7 7]\n",
            " [7 7 7]]\n",
            "\n",
            "Zeros Like Array :\n",
            " [[0 0]\n",
            " [0 0]]\n",
            "\n",
            "Ones Like Array \n",
            " [[1 1]\n",
            " [1 1]]\n",
            "\n",
            "NumPy Array from List:\n",
            " [1 2 3 4]\n"
          ]
        }
      ]
    },
    {
      "cell_type": "code",
      "source": [
        "#question of task 4 problem 2\n",
        "import numpy as np\n",
        "\n",
        "#Create an array with values ranging from 10 to 49\n",
        "arr1 = np.arange(10, 50)\n",
        "print(\"Array with values ranging from 10 to 49:\",arr1)\n",
        "\n",
        "#Create a 3X3 matrix with values ranging from 0 to 8\n",
        "arr2 = np.arange(9).reshape(3, 3)\n",
        "print(\"\\n3x3 Matrix with values ranging from 0 to 8:\",arr2)\n",
        "\n",
        "#Create a 3X3 identity matrix\n",
        "identity_matrix = np.eye(3)\n",
        "print(\"\\n3x3 Identity Matrix:\",identity_matrix)\n",
        "\n",
        "#Create a random array of size 30 and find the mean of the array\n",
        "random_array = np.random.random(30)\n",
        "mean_value = random_array.mean()\n",
        "print(\"\\nRandom Array of size 30 and its Mean:\",random_array)\n",
        "print(\"Mean of the array:\", mean_value)\n",
        "\n",
        "#Create a 10X10 array with random values and find the minimum and maximum values\n",
        "random_10x10 = np.random.random((10, 10))\n",
        "min_value = random_10x10.min()\n",
        "max_value = random_10x10.max()\n",
        "print(\"\\n10x10 Random Array:\",random_10x10)\n",
        "print(\"Minimum value:\", min_value)\n",
        "print(\"Maximum value:\", max_value)\n",
        "\n",
        "#Create a zero array of size 10 and replace 5th element with 1\n",
        "zero_array = np.zeros(10)\n",
        "zero_array[4] = 1\n",
        "print(\"\\nZero Array with 5th element replaced with 1:\",zero_array)\n",
        "\n",
        "#Reverse an array arr = [1, 2, 0, 0, 4, 0]\n",
        "arr3 = np.array([1, 2, 0, 0, 4, 0])\n",
        "reversed_arr = arr3[::-1]\n",
        "print(\"\\nReversed Array:\",reversed_arr)\n",
        "\n",
        "#Create a 2D array with 1 on the border and 0 inside\n",
        "border_array = np.ones((5, 5))\n",
        "border_array[1:-1, 1:-1] = 0\n",
        "print(\"\\n2D Array with 1 on border and 0 inside:\",border_array)\n",
        "\n",
        "# 9. Create an 8X8 matrix and fill it with a checkerboard pattern\n",
        "checkerboard = np.zeros((8, 8))\n",
        "checkerboard[1::2, ::2] = 1\n",
        "checkerboard[::2, 1::2] = 1\n",
        "print(\"\\n8x8 Checkerboard Pattern:\",checkerboard)"
      ],
      "metadata": {
        "colab": {
          "base_uri": "https://localhost:8080/"
        },
        "id": "LVINWhlSqTLo",
        "outputId": "ad917f3b-e42d-453d-ae2e-d5f552a434f8"
      },
      "execution_count": null,
      "outputs": [
        {
          "output_type": "stream",
          "name": "stdout",
          "text": [
            "Array with values ranging from 10 to 49: [10 11 12 13 14 15 16 17 18 19 20 21 22 23 24 25 26 27 28 29 30 31 32 33\n",
            " 34 35 36 37 38 39 40 41 42 43 44 45 46 47 48 49]\n",
            "\n",
            "3x3 Matrix with values ranging from 0 to 8: [[0 1 2]\n",
            " [3 4 5]\n",
            " [6 7 8]]\n",
            "\n",
            "3x3 Identity Matrix: [[1. 0. 0.]\n",
            " [0. 1. 0.]\n",
            " [0. 0. 1.]]\n",
            "\n",
            "Random Array of size 30 and its Mean: [0.51372394 0.64918427 0.31200882 0.38708149 0.7580962  0.30895274\n",
            " 0.35444972 0.65519916 0.35437324 0.35760477 0.10497297 0.32162912\n",
            " 0.15104056 0.23491178 0.54352017 0.94912703 0.81025278 0.56519107\n",
            " 0.29716563 0.41884361 0.14335065 0.40805832 0.47314736 0.44055325\n",
            " 0.09925766 0.15425698 0.16133892 0.63617832 0.76216584 0.2769246 ]\n",
            "Mean of the array: 0.4200853658636378\n",
            "\n",
            "10x10 Random Array: [[0.19854604 0.79289405 0.3929793  0.16728623 0.69982393 0.57891945\n",
            "  0.31859554 0.72396383 0.20204921 0.2195354 ]\n",
            " [0.61741366 0.56544188 0.65287504 0.84408662 0.53242538 0.98938327\n",
            "  0.6594422  0.70366795 0.5262129  0.86758916]\n",
            " [0.74241973 0.27349754 0.85954303 0.39355477 0.60240026 0.86821986\n",
            "  0.04640802 0.78181968 0.32343226 0.66678921]\n",
            " [0.0878848  0.07542587 0.31812326 0.90039465 0.69731436 0.42542986\n",
            "  0.14467117 0.34762004 0.77161913 0.67731463]\n",
            " [0.23090741 0.71123437 0.49470004 0.80031853 0.09758235 0.44418651\n",
            "  0.22394568 0.38367518 0.86357955 0.45865212]\n",
            " [0.99898823 0.64331415 0.2648349  0.13043739 0.07776109 0.03874916\n",
            "  0.19945412 0.76680977 0.97228739 0.20593341]\n",
            " [0.73567537 0.97058594 0.31950954 0.84717591 0.44150851 0.7536695\n",
            "  0.55345875 0.98136032 0.32735821 0.9375916 ]\n",
            " [0.07884316 0.92640395 0.60852073 0.4253197  0.98176447 0.74087641\n",
            "  0.72607123 0.52977709 0.17304821 0.2604096 ]\n",
            " [0.52563931 0.33316451 0.02777051 0.27550725 0.17197562 0.06503289\n",
            "  0.56804262 0.31788481 0.69889852 0.1534993 ]\n",
            " [0.488512   0.19977928 0.67421455 0.98423439 0.84936364 0.64299303\n",
            "  0.25436983 0.25629712 0.74271697 0.62921033]]\n",
            "Minimum value: 0.027770505164411596\n",
            "Maximum value: 0.9989882273290627\n",
            "\n",
            "Zero Array with 5th element replaced with 1: [0. 0. 0. 0. 1. 0. 0. 0. 0. 0.]\n",
            "\n",
            "Reversed Array: [0 4 0 0 2 1]\n",
            "\n",
            "2D Array with 1 on border and 0 inside: [[1. 1. 1. 1. 1.]\n",
            " [1. 0. 0. 0. 1.]\n",
            " [1. 0. 0. 0. 1.]\n",
            " [1. 0. 0. 0. 1.]\n",
            " [1. 1. 1. 1. 1.]]\n",
            "\n",
            "8x8 Checkerboard Pattern: [[0. 1. 0. 1. 0. 1. 0. 1.]\n",
            " [1. 0. 1. 0. 1. 0. 1. 0.]\n",
            " [0. 1. 0. 1. 0. 1. 0. 1.]\n",
            " [1. 0. 1. 0. 1. 0. 1. 0.]\n",
            " [0. 1. 0. 1. 0. 1. 0. 1.]\n",
            " [1. 0. 1. 0. 1. 0. 1. 0.]\n",
            " [0. 1. 0. 1. 0. 1. 0. 1.]\n",
            " [1. 0. 1. 0. 1. 0. 1. 0.]]\n"
          ]
        }
      ]
    },
    {
      "cell_type": "code",
      "source": [
        "#questions of task 4 problem 3\n",
        "import numpy as np\n",
        "\n",
        "#given arrays\n",
        "x = np.array([[1, 2], [3, 5]])\n",
        "y = np.array([[5, 6], [7, 8]])\n",
        "v = np.array([9, 10])\n",
        "w = np.array([11, 12])\n",
        "\n",
        "#Add the two arrays\n",
        "addition = x+y\n",
        "print(\"Addition of x and y:\",addition)\n",
        "\n",
        "#Subtract the two arrays\n",
        "subtraction = x-y\n",
        "print(\"\\nSubtraction of x and y:\",subtraction)\n",
        "\n",
        "#Multiply the array with any integers of your choice\n",
        "multiplied_x = x * 2\n",
        "print(\"\\nMultiplying x by 2:\",multiplied_x)\n",
        "\n",
        "#Find the square of each element of the array\n",
        "squared_x = np.square(x)\n",
        "print(\"\\nSquare of each element of x:\",squared_x)\n",
        "\n",
        "#Find the dot product between: v and w; x and v; x and y\n",
        "dot_v_w = np.dot(v, w)\n",
        "dot_x_v = np.dot(x, v)\n",
        "dot_x_y = np.dot(x, y)\n",
        "\n",
        "print(\"\\nDot product of v and w:\", dot_v_w)\n",
        "print(\"Dot product of x and v:\",dot_x_v)\n",
        "print(\"Dot product of x and y:\",dot_x_y)\n",
        "\n",
        "#Concatenate x and y along row and concatenate v and w along column\n",
        "concat_x_y_row = np.concatenate((x, y), axis=0)\n",
        "concat_v_w_column = np.concatenate((v.reshape(-1, 1), w.reshape(-1, 1)), axis=1)\n",
        "\n",
        "print(\"\\nConcatenating x and y along rows:\",concat_x_y_row)\n",
        "print(\"\\nConcatenating v and w along columns:\",concat_v_w_column)\n",
        "\n",
        "# 7. Concatenate x and v; if you get an error, observe and explain why did you get the error?\n",
        "concat_x_v = np.concatenate((x, v), axis=0)\n",
        "print(\"\\nConcatenating x and v along rows:\",concat_x_v)\n",
        "\n",
        "    #the output will be error because both x and v must have same demension but x has 2 rows while v has 1 so concatinate cannot be performed."
      ],
      "metadata": {
        "colab": {
          "base_uri": "https://localhost:8080/",
          "height": 644
        },
        "id": "k1e5UzGSrzq7",
        "outputId": "0920f2aa-4309-474d-9245-bb655605dc49"
      },
      "execution_count": null,
      "outputs": [
        {
          "output_type": "stream",
          "name": "stdout",
          "text": [
            "Addition of x and y: [[ 6  8]\n",
            " [10 13]]\n",
            "\n",
            "Subtraction of x and y: [[-4 -4]\n",
            " [-4 -3]]\n",
            "\n",
            "Multiplying x by 2: [[ 2  4]\n",
            " [ 6 10]]\n",
            "\n",
            "Square of each element of x: [[ 1  4]\n",
            " [ 9 25]]\n",
            "\n",
            "Dot product of v and w: 219\n",
            "Dot product of x and v: [29 77]\n",
            "Dot product of x and y: [[19 22]\n",
            " [50 58]]\n",
            "\n",
            "Concatenating x and y along rows: [[1 2]\n",
            " [3 5]\n",
            " [5 6]\n",
            " [7 8]]\n",
            "\n",
            "Concatenating v and w along columns: [[ 9 11]\n",
            " [10 12]]\n"
          ]
        },
        {
          "output_type": "error",
          "ename": "ValueError",
          "evalue": "all the input arrays must have same number of dimensions, but the array at index 0 has 2 dimension(s) and the array at index 1 has 1 dimension(s)",
          "traceback": [
            "\u001b[0;31m---------------------------------------------------------------------------\u001b[0m",
            "\u001b[0;31mValueError\u001b[0m                                Traceback (most recent call last)",
            "\u001b[0;32m<ipython-input-8-0d956526a3e9>\u001b[0m in \u001b[0;36m<cell line: 43>\u001b[0;34m()\u001b[0m\n\u001b[1;32m     41\u001b[0m \u001b[0;34m\u001b[0m\u001b[0m\n\u001b[1;32m     42\u001b[0m \u001b[0;31m# 7. Concatenate x and v; if you get an error, observe and explain why did you get the error?\u001b[0m\u001b[0;34m\u001b[0m\u001b[0;34m\u001b[0m\u001b[0m\n\u001b[0;32m---> 43\u001b[0;31m \u001b[0mconcat_x_v\u001b[0m \u001b[0;34m=\u001b[0m \u001b[0mnp\u001b[0m\u001b[0;34m.\u001b[0m\u001b[0mconcatenate\u001b[0m\u001b[0;34m(\u001b[0m\u001b[0;34m(\u001b[0m\u001b[0mx\u001b[0m\u001b[0;34m,\u001b[0m \u001b[0mv\u001b[0m\u001b[0;34m)\u001b[0m\u001b[0;34m,\u001b[0m \u001b[0maxis\u001b[0m\u001b[0;34m=\u001b[0m\u001b[0;36m0\u001b[0m\u001b[0;34m)\u001b[0m\u001b[0;34m\u001b[0m\u001b[0;34m\u001b[0m\u001b[0m\n\u001b[0m\u001b[1;32m     44\u001b[0m \u001b[0mprint\u001b[0m\u001b[0;34m(\u001b[0m\u001b[0;34m\"\\nConcatenating x and v along rows:\"\u001b[0m\u001b[0;34m,\u001b[0m\u001b[0mconcat_x_v\u001b[0m\u001b[0;34m)\u001b[0m\u001b[0;34m\u001b[0m\u001b[0;34m\u001b[0m\u001b[0m\n\u001b[1;32m     45\u001b[0m \u001b[0;34m\u001b[0m\u001b[0m\n",
            "\u001b[0;31mValueError\u001b[0m: all the input arrays must have same number of dimensions, but the array at index 0 has 2 dimension(s) and the array at index 1 has 1 dimension(s)"
          ]
        }
      ]
    },
    {
      "cell_type": "code",
      "source": [
        "#question of task 4 problem 4\n",
        "import numpy as np\n",
        "\n",
        "A = np.array([[3, 4], [7, 8]])\n",
        "B = np.array([[5, 3], [2, 1]])\n",
        "\n",
        "#Prove A * A^-1 = I\n",
        "A_inv = np.linalg.inv(A)\n",
        "I = np.eye(2)\n",
        "result = np.dot(A, A_inv)\n",
        "print(\"Result: \",result)\n",
        "print(\"\\nIs A * A^-1 equal to the identity matrix? \", np.allclose(result, I))\n",
        "\n",
        "#AB != BA\n",
        "AB = np.dot(A, B)\n",
        "BA = np.dot(B, A)\n",
        "print(\"\\nAB (A * B):\")\n",
        "print(AB)\n",
        "print(\"\\nBA (B * A):\")\n",
        "print(BA)\n",
        "print(\"\\nIs AB equal to BA? \", np.array_equal(AB, BA))\n",
        "\n",
        "#Prove (AB)^T = B^T * A^T\n",
        "AB_T = np.transpose(AB)\n",
        "B_T = np.transpose(B)\n",
        "A_T = np.transpose(A)\n",
        "B_T_A_T = np.dot(B_T, A_T)\n",
        "\n",
        "print(\"\\n(AB)^T (Transpose of AB):\")\n",
        "print(AB_T)\n",
        "print(\"\\nB^T * A^T:\")\n",
        "print(B_T_A_T)\n",
        "print(\"\\nIs (AB)^T equal to B^T * A^T? \", np.array_equal(AB_T, B_T_A_T))\n",
        "\n",
        "# Solving the system of linear equations using inverse method\n",
        "# The system of equations:\n",
        "# 2x - 3y + z = -1\n",
        "# x - y + 2z = -3\n",
        "# 3x + y - z = 9\n",
        "A_matrix = np.array([[2, -3, 1], [1, -1, 2], [3, 1, -1]])\n",
        "B_matrix = np.array([-1, -3, 9])\n",
        "\n",
        "# Solving for X using the inverse method\n",
        "A_inv_matrix = np.linalg.inv(A_matrix)\n",
        "X = np.dot(A_inv_matrix, B_matrix)\n",
        "print(\"\\nSolution of the system of linear equations (using inverse method):\")\n",
        "print(X)\n",
        "\n"
      ],
      "metadata": {
        "colab": {
          "base_uri": "https://localhost:8080/"
        },
        "id": "Cx86zdDWt7Km",
        "outputId": "68aed99e-f494-46c9-ce85-1f65c80b4c4c"
      },
      "execution_count": null,
      "outputs": [
        {
          "output_type": "stream",
          "name": "stdout",
          "text": [
            "Result:  [[1.00000000e+00 0.00000000e+00]\n",
            " [1.77635684e-15 1.00000000e+00]]\n",
            "\n",
            "Is A * A^-1 equal to the identity matrix?  True\n",
            "\n",
            "AB (A * B):\n",
            "[[23 13]\n",
            " [51 29]]\n",
            "\n",
            "BA (B * A):\n",
            "[[36 44]\n",
            " [13 16]]\n",
            "\n",
            "Is AB equal to BA?  False\n",
            "\n",
            "(AB)^T (Transpose of AB):\n",
            "[[23 51]\n",
            " [13 29]]\n",
            "\n",
            "B^T * A^T:\n",
            "[[23 51]\n",
            " [13 29]]\n",
            "\n",
            "Is (AB)^T equal to B^T * A^T?  True\n",
            "\n",
            "Solution of the system of linear equations (using inverse method):\n",
            "[ 2.  1. -2.]\n"
          ]
        }
      ]
    },
    {
      "cell_type": "code",
      "source": [
        "#using np.lang.inv()\n",
        "import numpy as np\n",
        "A_matrix = np.array([[2, -3, 1], [1, -1, 2], [3, 1, -1]])\n",
        "B_matrix = np.array([-1, -3, 9])\n",
        "\n",
        "A_inv_matrix = np.linalg.inv(A_matrix)\n",
        "X = np.dot(A_inv_matrix, B_matrix)\n",
        "print(\"\\nSolution of the system of linear equations (using np.linalg.inv method):\")\n",
        "print(X)\n"
      ],
      "metadata": {
        "colab": {
          "base_uri": "https://localhost:8080/"
        },
        "id": "1PdV0tPbvVAU",
        "outputId": "9cd27361-3f7a-4bce-be48-1701b3831fed"
      },
      "execution_count": null,
      "outputs": [
        {
          "output_type": "stream",
          "name": "stdout",
          "text": [
            "\n",
            "Solution of the system of linear equations (using np.linalg.inv method):\n",
            "[ 2.  1. -2.]\n"
          ]
        }
      ]
    },
    {
      "cell_type": "code",
      "source": [
        "#experiment task :4.2\n",
        "import numpy as np\n",
        "import time\n",
        "\n",
        "#Element-wise Addition\n",
        "#Python Lists\n",
        "size = 1000000\n",
        "list1 = list(range(size))\n",
        "list2 = list(range(size, 2 * size))\n",
        "start_time = time.time()\n",
        "list_addition = [list1[i] + list2[i] for i in range(size)]\n",
        "end_time = time.time()\n",
        "print(f\"Python List - Element-wise Addition Time: {end_time - start_time:.6f} seconds\")\n",
        "#NumPy Arrays\n",
        "np_list1 = np.arange(size)\n",
        "np_list2 = np.arange(size, 2 * size)\n",
        "\n",
        "start_time = time.time()\n",
        "np_addition = np_list1 + np_list2\n",
        "end_time = time.time()\n",
        "print(f\"NumPy Array - Element-wise Addition Time: {end_time - start_time:.6f} seconds\")\n",
        "\n",
        "#Element-wise Multiplication\n",
        "#Python Lists\n",
        "start_time = time.time()\n",
        "list_multiplication = [list1[i] * list2[i] for i in range(size)]\n",
        "end_time = time.time()\n",
        "print(f\"Python List - Element-wise Multiplication Time: {end_time - start_time:.6f} seconds\")\n",
        "#NumPy Arrays\n",
        "start_time = time.time()\n",
        "np_multiplication = np_list1 * np_list2\n",
        "end_time = time.time()\n",
        "print(f\"NumPy Array - Element-wise Multiplication Time: {end_time - start_time:.6f} seconds\")\n",
        "\n",
        "#Dot Product\n",
        "#Python Lists\n",
        "start_time = time.time()\n",
        "dot_product_list = sum([list1[i] * list2[i] for i in range(size)])\n",
        "end_time = time.time()\n",
        "print(f\"Python List - Dot Product Time: {end_time - start_time:.6f} seconds\")\n",
        "#NumPy Arrays\n",
        "start_time = time.time()\n",
        "dot_product_np = np.dot(np_list1, np_list2)\n",
        "end_time = time.time()\n",
        "print(f\"NumPy Array - Dot Product Time: {end_time - start_time:.6f} seconds\")\n",
        "\n",
        "#Matrix Multiplication\n",
        "# Python Lists\n",
        "matrix1 = [[i + j for j in range(1000)] for i in range(1000)]\n",
        "matrix2 = [[i - j for j in range(1000)] for i in range(1000)]\n",
        "\n",
        "start_time = time.time()\n",
        "matrix_multiplication_list = [[sum(matrix1[i][k] * matrix2[k][j] for k in range(100)) for j in range(100)]for i in range(100)]\n",
        "#Matrix multiplication\n",
        "end_time = time.time()\n",
        "print(f\"Python List - Matrix Multiplication Time: {end_time - start_time:.6f} seconds\")\n",
        "\n",
        "#NumPy Arrays\n",
        "np_matrix1 = np.random.rand(100, 100)\n",
        "np_matrix2 = np.random.rand(100, 100)\n",
        "\n",
        "start_time = time.time()\n",
        "matrix_multiplication_np = np.dot(np_matrix1, np_matrix2)\n",
        "end_time = time.time()\n",
        "print(f\"NumPy Array - Matrix Multiplication Time: {end_time - start_time:.6f} seconds\")\n"
      ],
      "metadata": {
        "colab": {
          "base_uri": "https://localhost:8080/"
        },
        "id": "gwKkPmX7vw68",
        "outputId": "a9718fe9-87e3-447b-fa7b-88ee15499601"
      },
      "execution_count": null,
      "outputs": [
        {
          "output_type": "stream",
          "name": "stdout",
          "text": [
            "Python List - Element-wise Addition Time: 0.187964 seconds\n",
            "NumPy Array - Element-wise Addition Time: 0.004273 seconds\n",
            "Python List - Element-wise Multiplication Time: 0.145509 seconds\n",
            "NumPy Array - Element-wise Multiplication Time: 0.005109 seconds\n",
            "Python List - Dot Product Time: 0.180380 seconds\n",
            "NumPy Array - Dot Product Time: 0.001959 seconds\n",
            "Python List - Matrix Multiplication Time: 0.182047 seconds\n",
            "NumPy Array - Matrix Multiplication Time: 0.000308 seconds\n"
          ]
        }
      ]
    }
  ]
}